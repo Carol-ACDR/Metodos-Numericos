{
  "nbformat": 4,
  "nbformat_minor": 0,
  "metadata": {
    "colab": {
      "provenance": [],
      "authorship_tag": "ABX9TyPzmMU3B2YsDi4LnnwmGCSL",
      "include_colab_link": true
    },
    "kernelspec": {
      "name": "python3",
      "display_name": "Python 3"
    },
    "language_info": {
      "name": "python"
    }
  },
  "cells": [
    {
      "cell_type": "markdown",
      "metadata": {
        "id": "view-in-github",
        "colab_type": "text"
      },
      "source": [
        "<a href=\"https://colab.research.google.com/github/Carol-ACDR/Metodos-Numericos/blob/main/ExercicioEliminGaussiana.ipynb\" target=\"_parent\"><img src=\"https://colab.research.google.com/assets/colab-badge.svg\" alt=\"Open In Colab\"/></a>"
      ]
    },
    {
      "cell_type": "markdown",
      "source": [
        "INSTITUTO FEDERAL DE EDUCAÇÃO, CIÊNCIA E TECNOLOGIA DA PARAÍBA – IFPB CAMPUS CAMPINA GRANDE\n",
        "\n",
        "ENGENHARIA DE COMPUTAÇÃO\n",
        "\n",
        "DISCIPLINA: Métodos Númericos\n",
        "\n",
        "PROFESSOR: PAULO RIBEIRO LINS JUNIOR\n",
        "\n",
        "ALUNO(A): Ana Carolina Dutra Ramos"
      ],
      "metadata": {
        "id": "ARZG9tVGveLw"
      }
    },
    {
      "cell_type": "markdown",
      "source": [
        "Função:"
      ],
      "metadata": {
        "id": "qJNsdeKavlf8"
      }
    },
    {
      "cell_type": "code",
      "source": [
        "import numpy as np\n",
        "import matplotlib.pyplot as plt\n",
        "import scipy.linalg as sla"
      ],
      "metadata": {
        "id": "UmC17hJOvrM8"
      },
      "execution_count": null,
      "outputs": []
    },
    {
      "cell_type": "code",
      "source": [
        "def sist_lin_tri_sup(A,b):\n",
        " n = len(b)\n",
        " x = np.empty(n)\n",
        " x[-1] = b[-1]/A[-1, -1]\n",
        " for i in range(n-2, -1, -1):\n",
        "  x[i] = (b[i] - np.sum(A[i,i+1:]*x[i+1:]))/A[i,i]\n",
        " return x\n",
        "\n",
        "def eliminaçãoG(A,b):\n",
        "  Ab =  np.c_[A,b]\n",
        "  n = len(A)\n",
        "  for c in range(n-1):\n",
        "    aux = np.abs(Ab[c:,c]).argmax()+c\n",
        "    if (Ab[c,c] == Ab[aux,c]) :\n",
        "      for d in range(c+1,n):\n",
        "        Ab[d] = Ab[d] - (((Ab[d,c]/ Ab[c,c]))*Ab[c])\n",
        "    else:\n",
        "      Ab[[c,aux]] = Ab [[aux,c]]\n",
        "      for d in range(c+1,n):\n",
        "        Ab[d] = Ab[d] - (((Ab[d,c]/ Ab[c,c]))*Ab[c])\n",
        "  return Ab[:,:-1], Ab[:,-1]\n",
        "\n",
        "def solução(A,b):\n",
        "  H,e = eliminaçãoG(A,b)\n",
        "  return sist_lin_tri_sup(H,e)"
      ],
      "metadata": {
        "id": "hlliODVK1jvV"
      },
      "execution_count": null,
      "outputs": []
    },
    {
      "cell_type": "markdown",
      "source": [
        "a)"
      ],
      "metadata": {
        "id": "87UiCuqDAh8N"
      }
    },
    {
      "cell_type": "code",
      "source": [
        "A = np.array([[1.0,1.0,1.0],[4.0,4.0,2.0],[2.0,1.0,-1.0]])\n",
        "b = np.array([1.0,2.0,0.0])\n",
        "print(solução(A,b))\n",
        "print(sla.solve(A, b, lower=False))\n",
        "print(solução(A,b) == sla.solve(A, b, lower=False))"
      ],
      "metadata": {
        "colab": {
          "base_uri": "https://localhost:8080/"
        },
        "id": "J_DPn3L_7Pse",
        "outputId": "e632d5d7-a28c-4cc8-e573-69175f3d86f7"
      },
      "execution_count": null,
      "outputs": [
        {
          "output_type": "stream",
          "name": "stdout",
          "text": [
            "[ 1. -1.  1.]\n",
            "[ 1. -1.  1.]\n",
            "[ True  True  True]\n"
          ]
        }
      ]
    },
    {
      "cell_type": "markdown",
      "source": [
        "b)"
      ],
      "metadata": {
        "id": "mMzEA26rK_FT"
      }
    },
    {
      "cell_type": "code",
      "source": [
        "C = np.array([[7.0,-7.0,1.0],[-3.0,3.0,2.0],[7.0,7.0,-72.0]])\n",
        "d = np.array([1.0,2.0,7.0])\n",
        "print(solução(C,d))\n",
        "print(sla.solve(C, d, lower=False))\n",
        "print(solução(C,d) == sla.solve(C, d, lower=False))"
      ],
      "metadata": {
        "colab": {
          "base_uri": "https://localhost:8080/"
        },
        "id": "8hpqW9LjJIgU",
        "outputId": "804738b0-1b65-4c69-f069-9d922b824e33"
      },
      "execution_count": null,
      "outputs": [
        {
          "output_type": "stream",
          "name": "stdout",
          "text": [
            "[5.64285714 5.64285714 1.        ]\n",
            "[5.64285714 5.64285714 1.        ]\n",
            "[ True  True  True]\n"
          ]
        }
      ]
    },
    {
      "cell_type": "markdown",
      "source": [
        "c)"
      ],
      "metadata": {
        "id": "PvFjNfHsLAl7"
      }
    },
    {
      "cell_type": "code",
      "source": [
        "E = np.array([[1.0,2.0,3.0,4.0],[2.0,2.0,3.0,4.0],[3.0,3.0,3.0,4.0],[4.0,4.0,4.0,4.0]])\n",
        "f = np.array([20.0,22.0,22.0,24.0])\n",
        "print(solução(E,f))\n",
        "print(sla.solve(E, f, lower=False))\n",
        "print(solução(E,f) == sla.solve(E, f, lower=False))"
      ],
      "metadata": {
        "colab": {
          "base_uri": "https://localhost:8080/"
        },
        "id": "9VV9HmuKJt_9",
        "outputId": "ef3d2ae3-415a-4ff1-acd5-b82cb1f9c669"
      },
      "execution_count": null,
      "outputs": [
        {
          "output_type": "stream",
          "name": "stdout",
          "text": [
            "[ 2. -2.  2.  4.]\n",
            "[ 2. -2.  2.  4.]\n",
            "[ True  True  True  True]\n"
          ]
        }
      ]
    }
  ]
}