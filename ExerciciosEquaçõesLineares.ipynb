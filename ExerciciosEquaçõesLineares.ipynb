{
  "nbformat": 4,
  "nbformat_minor": 0,
  "metadata": {
    "colab": {
      "provenance": [],
      "authorship_tag": "ABX9TyMOaDt2iCGiBXtpEFa+0ntq",
      "include_colab_link": true
    },
    "kernelspec": {
      "name": "python3",
      "display_name": "Python 3"
    },
    "language_info": {
      "name": "python"
    }
  },
  "cells": [
    {
      "cell_type": "markdown",
      "metadata": {
        "id": "view-in-github",
        "colab_type": "text"
      },
      "source": [
        "<a href=\"https://colab.research.google.com/github/Carol-ACDR/Metodos-Numericos/blob/main/ExerciciosEqua%C3%A7%C3%B5esLineares.ipynb\" target=\"_parent\"><img src=\"https://colab.research.google.com/assets/colab-badge.svg\" alt=\"Open In Colab\"/></a>"
      ]
    },
    {
      "cell_type": "markdown",
      "source": [
        "INSTITUTO FEDERAL DE EDUCAÇÃO, CIÊNCIA E TECNOLOGIA DA PARAÍBA – IFPB CAMPUS CAMPINA GRANDE\n",
        "\n",
        "ENGENHARIA DE COMPUTAÇÃO\n",
        "\n",
        "DISCIPLINA: Métodos Númericos\n",
        "\n",
        "PROFESSOR: PAULO RIBEIRO LINS JUNIOR\n",
        "\n",
        "ALUNO(A): Ana Carolina Dutra Ramos"
      ],
      "metadata": {
        "id": "63930pbnuwdV"
      }
    },
    {
      "cell_type": "code",
      "source": [
        "import numpy as np\n",
        "import scipy.linalg as sla"
      ],
      "metadata": {
        "id": "lRNTAM3KuxIW"
      },
      "execution_count": null,
      "outputs": []
    },
    {
      "cell_type": "markdown",
      "source": [
        "Exercicio 1.1\n"
      ],
      "metadata": {
        "id": "OJTbh94EGmQ8"
      }
    },
    {
      "cell_type": "code",
      "source": [
        "#Primeiro\n",
        "PriA = np.array([[1,2,3],[4,5,6],[7,8,9]])\n",
        "Prib = np.array([1,1,1])\n",
        "print(np.linalg.matrix_rank(PriA))\n",
        "print(np.linalg.matrix_rank(np.c_[PriA, Prib]))\n",
        "print(PriA.shape[1])\n",
        "\n",
        "#Segundo\n",
        "\n",
        "SegA = np.array([[2,3],[-4,-6]])\n",
        "Segb = np.array([10,-10])\n",
        "print(np.linalg.matrix_rank(SegA))\n",
        "print(np.linalg.matrix_rank(np.c_[SegA, Segb]))\n",
        "print(SegA.shape[1])"
      ],
      "metadata": {
        "colab": {
          "base_uri": "https://localhost:8080/"
        },
        "id": "hCrmj7tKoBP1",
        "outputId": "ba1469ad-172b-4bbc-d55b-e7123a7c010e"
      },
      "execution_count": null,
      "outputs": [
        {
          "output_type": "stream",
          "name": "stdout",
          "text": [
            "2\n",
            "2\n",
            "3\n",
            "1\n",
            "2\n",
            "2\n"
          ]
        }
      ]
    },
    {
      "cell_type": "markdown",
      "source": [
        "Conclusão\n",
        "\n",
        "a) Sistema possível Indeterminado (infinitas soluções)\n",
        "\n",
        "\n",
        "b) Sistema impossível (Sem solução precisa)"
      ],
      "metadata": {
        "id": "MScB9VPhGp-q"
      }
    },
    {
      "cell_type": "markdown",
      "source": [
        "Exercicio 1.2"
      ],
      "metadata": {
        "id": "sFLPNp3RBi7y"
      }
    },
    {
      "cell_type": "code",
      "source": [
        "A = np.array([[3,4,-5,1],[0,1,1,-2],[0,0,4,-5],[0,0,0,2]])\n",
        "b = np.array([-10,-1,3,2])\n",
        "x4 = 2/2\n",
        "x3 = (3+5*x4)/4\n",
        "x2 = -1-x3+2*x4\n",
        "x1 = (-10-4*x2+5*x3-x4)/3\n",
        "xteste = [x1,x2,x3,x4]\n"
      ],
      "metadata": {
        "colab": {
          "base_uri": "https://localhost:8080/"
        },
        "id": "vBV9U6kKBlMx",
        "outputId": "db8688c2-3b1f-467b-c9a1-a9355e8b20df"
      },
      "execution_count": null,
      "outputs": [
        {
          "output_type": "execute_result",
          "data": {
            "text/plain": [
              "[1.0, -1.0, 2.0, 1.0]"
            ]
          },
          "metadata": {},
          "execution_count": 15
        }
      ]
    },
    {
      "cell_type": "code",
      "source": [
        "def sist_lin_tri_sup(A,b):\n",
        " n = len(b)\n",
        " x = np.empty(n)\n",
        " x[-1] = b[-1]/A[-1, -1]\n",
        " for i in range(n-2, -1, -1):\n",
        "  x[i] = (b[i] - np.sum(A[i,i+1:]*x[i+1:]))/A[i,i]\n",
        " return x\n"
      ],
      "metadata": {
        "id": "RPndT6wwGwVI"
      },
      "execution_count": null,
      "outputs": []
    },
    {
      "cell_type": "code",
      "source": [
        "print(xteste)\n",
        "print(sist_lin_tri_sup(A,b))\n",
        "print(xteste == sist_lin_tri_sup(A,b))"
      ],
      "metadata": {
        "colab": {
          "base_uri": "https://localhost:8080/"
        },
        "id": "Zz_cHMrqJ_bN",
        "outputId": "c400fcf4-c56e-444e-f5b4-9ad2f47cd4a1"
      },
      "execution_count": null,
      "outputs": [
        {
          "output_type": "stream",
          "name": "stdout",
          "text": [
            "[1.0, -1.0, 2.0, 1.0]\n",
            "[ 1. -1.  2.  1.]\n",
            "[ True  True  True  True]\n"
          ]
        }
      ]
    },
    {
      "cell_type": "markdown",
      "source": [
        "Exercicio 1.3\n"
      ],
      "metadata": {
        "id": "lEeR8FKVN8Zp"
      }
    },
    {
      "cell_type": "code",
      "source": [
        "A = np.array([[3,0,0,0],[2,1,0,0],[1,0,1,0],[1,1,1,1]])\n",
        "b = np.array([4,2,4,2])\n",
        "x1 = 4/3\n",
        "x2 = 2 - 2*x1\n",
        "x3 = 4 -x1\n",
        "x4 = 2-x1-x2-x3\n",
        "xteste = [x1,x2,x3,x4]\n"
      ],
      "metadata": {
        "id": "6a-sYP0bN_v9"
      },
      "execution_count": null,
      "outputs": []
    },
    {
      "cell_type": "code",
      "source": [
        "def sist_lin_tri_inf(A,b):\n",
        " n = len(b)\n",
        " x = np.empty(n)\n",
        " x[0] = b[0]/A[0, 0]\n",
        " for i in range(1,n):\n",
        "  x[i] = (b[i] - np.sum(A[i,:i]*x[:i]))/A[i,i]\n",
        " return x"
      ],
      "metadata": {
        "id": "K-49Ra1BPFOA"
      },
      "execution_count": null,
      "outputs": []
    },
    {
      "cell_type": "code",
      "source": [
        "print(xteste)\n",
        "print(sist_lin_tri_inf(A,b))"
      ],
      "metadata": {
        "colab": {
          "base_uri": "https://localhost:8080/"
        },
        "id": "RmT9ID3WPOY-",
        "outputId": "84adc0b3-43bb-47ab-d293-d1fc0882dd21"
      },
      "execution_count": null,
      "outputs": [
        {
          "output_type": "stream",
          "name": "stdout",
          "text": [
            "[1.3333333333333333, -0.6666666666666665, 2.666666666666667, -1.3333333333333337]\n",
            "[ 1.33333333 -0.66666667  2.66666667 -1.33333333]\n"
          ]
        }
      ]
    },
    {
      "cell_type": "markdown",
      "source": [
        "Exercicio 1.4"
      ],
      "metadata": {
        "id": "rwtI1zihPp34"
      }
    },
    {
      "cell_type": "code",
      "source": [
        "def triangular(A,b):\n",
        "  cont = 0\n",
        "  n = len(b)\n",
        "  for i in range (0, n):\n",
        "    for j in range (0,n):\n",
        "      if (i == j):\n",
        "        continue\n",
        "      else:\n",
        "        cont +=A [i,j]\n",
        "  if(cont == 0):\n",
        "    print(\"Matrix diagonal!\")\n",
        "    return b/A.diagonal()\n",
        "  else:\n",
        "    if (A[0,-1] == 0):\n",
        "      print(\"Matriz Inferior!\")\n",
        "      x = np.empty(n)\n",
        "      x[0] = b[0]/A[0, 0]\n",
        "      for i in range(1,n):\n",
        "        x[i] = (b[i] - np.sum(A[i,:i]*x[:i]))/A[i,i]\n",
        "      return x\n",
        "    else:\n",
        "      print(\"Matriz superior!\")\n",
        "      x = np.empty(n)\n",
        "      x[-1] = b[-1]/A[-1, -1]\n",
        "      for i in range(n-2, -1, -1):\n",
        "        x[i] = (b[i] - np.sum(A[i,i+1:]*x[i+1:]))/A[i,i]\n",
        "      return x\n"
      ],
      "metadata": {
        "id": "lDJ1oklcSQu2"
      },
      "execution_count": null,
      "outputs": []
    },
    {
      "cell_type": "code",
      "source": [
        "#teste\n",
        "\n",
        "InfA = np.array([[3,0,0,0],[2,1,0,0],[1,0,1,0],[1,1,1,1]])\n",
        "Infb = np.array([4,2,4,2])\n",
        "\n",
        "\n",
        "SupA = np.array([[3,4,-5,1],[0,1,1,-2],[0,0,4,-5],[0,0,0,2]])\n",
        "Supb = np.array([-10,-1,3,2])\n",
        "\n",
        "DigA = np.diag([1,4,2])\n",
        "Digb = np.array([4, 2, 2])\n",
        "\n",
        "triangular(InfA,Infb)\n",
        "triangular(SupA,Supb)\n",
        "triangular(DigA,Digb)\n"
      ],
      "metadata": {
        "colab": {
          "base_uri": "https://localhost:8080/"
        },
        "id": "1edpBwQel4GJ",
        "outputId": "9a1aca88-9f70-43eb-aefa-da68ae3b9e2d"
      },
      "execution_count": null,
      "outputs": [
        {
          "output_type": "stream",
          "name": "stdout",
          "text": [
            "Matriz Inferior!\n",
            "Matriz superior!\n",
            "Matrix diagonal!\n"
          ]
        },
        {
          "output_type": "execute_result",
          "data": {
            "text/plain": [
              "array([4. , 0.5, 1. ])"
            ]
          },
          "metadata": {},
          "execution_count": 28
        }
      ]
    }
  ]
}