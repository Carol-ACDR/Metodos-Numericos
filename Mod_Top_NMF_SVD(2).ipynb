{
  "cells": [
    {
      "cell_type": "markdown",
      "metadata": {
        "id": "view-in-github",
        "colab_type": "text"
      },
      "source": [
        "<a href=\"https://colab.research.google.com/github/Carol-ACDR/Metodos-Numericos/blob/main/Mod_Top_NMF_SVD(2).ipynb\" target=\"_parent\"><img src=\"https://colab.research.google.com/assets/colab-badge.svg\" alt=\"Open In Colab\"/></a>"
      ]
    },
    {
      "cell_type": "markdown",
      "metadata": {
        "id": "0sY36KjGI2h6"
      },
      "source": [
        "# <center>__MÉTODOS NUMÉRICOS__</center>\n",
        "## <center>__PROJETO DA UNIDADE 2__</center>\n",
        "\n",
        "### <center> __Modelagem de Tópicos com NMF e SVD__</center>\n",
        "\n",
        "##### <center> Dezembro de 2022 </center>"
      ]
    },
    {
      "cell_type": "markdown",
      "metadata": {
        "id": "md4gxUybI2h-"
      },
      "source": [
        "<div class=\"alert alert-block alert-info\">\n",
        "1. INTRODUÇÃO\n",
        "</div>"
      ]
    },
    {
      "cell_type": "markdown",
      "metadata": {
        "id": "zHd7PhkxI2h_"
      },
      "source": [
        "Modelagem de Tópicos é uma forma de mineração de texto, uma forma de identificar padrões e conjuntos. Uma da maneira de fazer uma modelagem de tópico é construindo um conjunto e executando-o utilizando algumas ferramentas capazes de gerar e analisar grupos de palavras, distribuindo assim em tópicos. Ela também pode ajuda na explorar grandes quantidades de dados de texto, encontrando grupos de palavras, similaridade entre documentos e descobrir tópicos abstratos. Alguns dos métodos mais conhecidos para modelagem de tópicos são o SVD e o NMF, na qual se utilizam de matrizes para a obtenção de seus resultados. Vamos detalhar cada um dos métodos."
      ]
    },
    {
      "cell_type": "markdown",
      "metadata": {
        "id": "5WRKhtpDI2h_"
      },
      "source": [
        "### SVD:\n",
        "\n",
        "O SVD (Singular Value Decomposition, ou do português Decomposição em Valores Singulares) é a fatoração de uma matriz, podendo essa ser real ou complexa, reduzindo assim às suas partes constituintes, com finalidade de simplificar certos cálculos subsequentes da matriz. Esse método é bastante utilizado em processamento de sinais e analise estatístico. Uma de suas aplicações é o agrupamento de artigos por tópico.\n",
        "\n",
        "O SVD é dado por uma matriz de entrada A, por exemplo, do tipo mxn na qual é fatorada da seguinte forma:\n",
        "<center> A<sub>mxn</sub> = U<sub>mxm</sub>• ∑<sub>mxn</sub>• V*<sub>nxn</sub> </center>\n",
        "\n",
        "Onde cada termo é descrito como:\n",
        "- U ~> é uma matriz unitaria mxm;\n",
        "- ∑ ~> é uma matriz diagonal mxn;\n",
        "- V* ou V<sup>T </sup> ~> é uma matriz unitária conjugada nxn.\n",
        "\n",
        "São essas três matrizes que compõem a matriz SVD podem ser complexas ou reais.\n",
        "\n",
        "\n",
        "<img src=\"https://blog.kakaocdn.net/dn/bsLJ5A/btqBZqJMY8P/dvxOlSuKMEg1OPgZXde7u1/img.png\" alt=\"Fatoração da matriz SVD\" style=\"height:300px\">\n",
        "<br>\n",
        "<center> Fonte: <a href=\"https://blog.kakaocdn.net/dn/bsLJ5A/btqBZqJMY8P/dvxOlSuKMEg1OPgZXde7u1/img.png\">https://blog.kakaocdn.net/dn/bsLJ5A/btqBZqJMY8P/dvxOlSuKMEg1OPgZXde7u1/img.png</a> <center>"
      ]
    },
    {
      "cell_type": "markdown",
      "metadata": {
        "id": "4208qZ1PI2iA"
      },
      "source": [
        "### NMF\n",
        "\n",
        "O NMF (Non-negative Matrix Factorization, ou do português Fatoração de Matriz Não negativa) é um conjunto de algoritmos baseado em análise multivariadas e ágebra linear, na qual é representado por uma matriz mxn que é fatorada em outras duas matrizes, uma das principais propriedade é a não existencia de números negativos, o que se torna mais fácil de inspecionar à matriz resultante. É possível encontrar sua aplicação em espectrogramas de áudio, por exemplo. Como não se trabalha com números negativos, o problema não é totalmente solucionado, dessa forma, tem-se uma oproximação do que seria a matriz resultante real.\n",
        "\n",
        "Sua aplicação pode ser encontrada nas mais diversas áreas, como no processamento de audio, processamento de imagens, agrupamento de documentos e bioinfórmatica.\n",
        "\n",
        "O NMF é definido por uma cobinação linear do tipo:\n",
        "\n",
        "<center> A<sub>mxn</sub> ≈ W<sub>mxk</sub> • H<sub>kxn</sub> </center>\n",
        "\n",
        "Onde cada termo é descrito como:\n",
        "\n",
        "- A ~> matriz de entrada;\n",
        "- W ~> matriz de recursos;\n",
        "- H ~> matriz de coeficientes;\n",
        "- k ~> aproximação de classificação baixa de A, ou seja o menor valor aproximado entre m e n da matriz A (k ≤ min(m,n)).\n",
        "\n",
        "\n",
        "<img src=\"https://media.geeksforgeeks.org/wp-content/uploads/20210429213042/Intuition1-660x298.png\" alt=\"Fatoração da matriz NMF\" style=\"height:200px\">\n",
        "<br>\n",
        "<center> Fonte: <a href=\"https://media.geeksforgeeks.org/wp-content/uploads/20210429213042/Intuition1-660x298.png\">https://media.geeksforgeeks.org/wp-content/uploads/20210429213042/Intuition1-660x298.png</a> <center>"
      ]
    },
    {
      "cell_type": "markdown",
      "metadata": {
        "id": "-25kroKHI2iA"
      },
      "source": [
        "### As principais diferenças entre SVD e NMF:\n",
        "\n",
        "SVD é uma técnica de fatoração de matriz exata, ou seja você pode reconstruir a matriz de entrada a partir das matrizes resultantes. Enquanto na NMF você não consegue esse recostrução. Por outro lado, o NMF é conhecido por capturar tópicos mais diversos do que o SVD. Se você optar por usar k-SVD, é a melhor aproximação de classificação k possível para a matriz de entrada. Ou seja, quanto maior for o conjunto de valores singular (k), maior será a precisão da modelagem."
      ]
    },
    {
      "cell_type": "markdown",
      "metadata": {
        "id": "l0_wpTuHI2iA"
      },
      "source": [
        "<div class=\"alert alert-block alert-info\">\n",
        "2. DESCRIÇÃO DO PROBLEMA\n",
        "</div>"
      ]
    },
    {
      "cell_type": "markdown",
      "metadata": {
        "id": "KbGZsSSzI2iB"
      },
      "source": [
        "Nosso problema consiste em pegar um conjunto de dados de documentos (textos) com várias categorias diferentes e encontrar tópicos ou grupos de palavras para eles.\n",
        "\n",
        "No problema teremos um conjunto de dados descritos em um período t de tempo. Como no exemplo base que possui 18.000 postagens de grupos de notícias com 20 tópicos referentes as decadas de 80 e 90. No problema temos um período t de tempo pelo fato de estarmos trabalhando com datasets, que são conjuntos de dados menores quando comparadas com databases. O fato de escolher um dataset é que o nível de escalabilidade é menor, logo o nível de complexibilidade para a analise também é menor e mais harmonizada.\n",
        "\n",
        "Inicialmente temos que alimentar a nossa rede neural, separando um conjunto de teste e um conjunto de trinamento, é necessario ter esses dois conjuntos para salientar que a nossa rede neural esteja funcionando corretamente, ou seja, consiga identificar realmente. Caso os conjuto de trainamento e teste fosse os mesmos, não conseguiriamos ter uma precisão do erro, já que o rede já conheceria os dados de teste.\n",
        "\n",
        "Para isso, é preciso utilizar métodos que a pliquem a modelagem de tópicos, pois, como dito acima, o nosso objetivo é subtividir o nosso conjunto em tópicos, nos quais cada tópico irá agrupar documentos que tenham padrões semelhantes.\n",
        "\n",
        "Esse é um classico problema de classificação, e ele pode se encaixar nas mais diversas aplicabilidade, podemos ter classificação de médicamentos, de espécies de animais/flores, de sinais, de documentos/texto, que é o que vamos utilizar, entre diversas outras aplicações."
      ]
    },
    {
      "cell_type": "markdown",
      "metadata": {
        "id": "YRUp1UYFI2iB"
      },
      "source": [
        "<div class=\"alert alert-block alert-info\">\n",
        "3. MÉTODOS APLICADOS À SOLUÇÃO\n",
        "</div>"
      ]
    },
    {
      "cell_type": "markdown",
      "metadata": {
        "id": "NDxw3rC9I2iB"
      },
      "source": [
        "Como vimos na introtução, tanto o método SVD quanto o NMF podem ser utilizados para a separação e identificação de padrões, então faremos uso deles para as nossas aplicação. Faremos o mesmo problema sendo aplicado nos dois métodos. Com o objetivo de obtemos a modelagem de tópicos por duas visões diferentes.\n",
        "\n",
        "Optamos por escolher esses métodos pelo fato de que no NMF tem como objetivo a redução de dimensionalidade e extração de características. Além dele ser usado nas principais aplicações, como processamento de imagem, mineração de texto, análise de dados espectrais, astronomia, imputação de dados, previsão de distância da internet escalável, eleminação de ruídos em sinais, genética de população, bioinformática, imagem nuclear e diversas outras aplicações. Na astronomia, por exemplo, é utilizado para a redução de dimensão, já que os sinais astrofísicos são não negatimos, além de poder ser realizado um processo linaer, que é bastante utilizado para separa a luz estelar e a luz espalhada. Outro destaque é para a sua aplicação na mineração de texto, cujo é o objetivo de sua utilização nesse artigo, é dada por uma matriz que podemos chamar como sendo de documento-termo na qual é construída de pesos de varios termos. Essa matriz pode ser fatorada em duas matrizes, sendo elas a de característica-documento e a feição-documento. Assim o algoritmo reduz a matriz termo-documento em uma matriz menor e mais adequada para agrupamento de texto.\n",
        "\n",
        "O método SVD por sua vez também possui diversas aplicações como na solução de sistemas linear homogêneos, para o cálculo de pseudo-inversa, minimização de mínimos quadros totais, aproximação por matriz de baixo posto, modelo separáveis, matris ortogonal mais próxima, até o algoritmo de Kabsch utiliza o SVD para calcular a rotação ótima, e esse algoritmo é bastante utilizado em visão computacional, robótica e até mesmo na comparação de estruturas moleculares. Esse método também é abordado na mineração de texto por permitir a redução de dimenções ajudando assim na classificação de tópicos. Essas são algumas das diversas aplicações. O método consiste basicamente em uma fatoração de duas matrizes ortagonais e uma matriz diagonal, na qual são responsavel por subdividir o nosso espectro de texto, por exemplo, permitindo uma analise topicamente. E um de seus distaques é a possibilidade de retornar da fatoração para a matriz original de entrada.\n",
        "\n",
        "Como podemos observar ambos são utilizados na mineração de textos, pois um dos principais motivo é a redução de dimenções e permitir a topicalização das palavras. Que é o objetivo do nosso problema, isso já é um motivo plausível de suas utilizações."
      ]
    },
    {
      "cell_type": "markdown",
      "metadata": {
        "id": "Cvb4hYeKI2iC"
      },
      "source": [
        "<div class=\"alert alert-block alert-info\">\n",
        "4. IMPLEMENTAÇÃO/CASOS DE USO\n",
        "</div>"
      ]
    },
    {
      "cell_type": "markdown",
      "metadata": {
        "id": "ibPAqafyI2iC"
      },
      "source": [
        "Nesse tópico iremos realizar a implementação já fazendo a aplicação em dois casos de uso. Sendo um deles o caso do exemplo base e o outro é de um dataset sobre fake new, que será descrito na hora certa."
      ]
    },
    {
      "cell_type": "markdown",
      "metadata": {
        "id": "kk4mT7YBI2iC"
      },
      "source": [
        "Importando as bibliotecas base para analise:"
      ]
    },
    {
      "cell_type": "code",
      "execution_count": null,
      "metadata": {
        "id": "Yfl97YMFI2iC"
      },
      "outputs": [],
      "source": [
        "import numpy as np\n",
        "import pandas as pd\n",
        "from scipy.linalg import svd\n",
        "from sklearn.decomposition import NMF\n",
        "import matplotlib.pyplot as plt"
      ]
    },
    {
      "cell_type": "markdown",
      "metadata": {
        "id": "ZvrWB4mJI2iD"
      },
      "source": [
        "Primeiro vamos importar nossa dataset para analise. Nessa primeira analise é o exemplo dado no texto base. No qual esse dataset é um conjunto de notícias sobre grupos de discussão na Usenet, que era popular nos anos 80 e 90. Este conjunto de dados inclui 18.000 postagens de grupos de notícias com 20 tópicos."
      ]
    },
    {
      "cell_type": "code",
      "execution_count": null,
      "metadata": {
        "id": "6EAiD91DI2iE"
      },
      "outputs": [],
      "source": [
        "from sklearn.datasets import fetch_20newsgroups\n",
        "from sklearn.feature_extraction.text import CountVectorizer, TfidfVectorizer"
      ]
    },
    {
      "cell_type": "markdown",
      "metadata": {
        "id": "ktJUKHqCI2iE"
      },
      "source": [
        "Faremos um breve tratamento dos dados, definindo as categorias, o que desejamos remover dessas notícias, além de separar os dados de trainamento e teste da nossa rede neural."
      ]
    },
    {
      "cell_type": "code",
      "execution_count": null,
      "metadata": {
        "id": "h_kW3N8dI2iE"
      },
      "outputs": [],
      "source": [
        "categories = ['alt.atheism', 'talk.religion.misc', 'comp.graphics', 'sci.space']\n",
        "remove = ('headers', 'footers', 'quotes')\n",
        "newsgroups_train = fetch_20newsgroups(subset='train', categories=categories, remove=remove)\n",
        "newsgroups_test = fetch_20newsgroups(subset='test', categories=categories, remove=remove)"
      ]
    },
    {
      "cell_type": "markdown",
      "metadata": {
        "id": "dRfUlywbI2iE"
      },
      "source": [
        "Vamos encontar o formato que estamos trabalhando, para isso vamos usar o shape:"
      ]
    },
    {
      "cell_type": "code",
      "execution_count": null,
      "metadata": {
        "id": "-Jp7UI-GI2iE",
        "outputId": "d070b243-0664-4a04-eefc-cba886eabd90"
      },
      "outputs": [
        {
          "data": {
            "text/plain": [
              "((2034,), (2034,))"
            ]
          },
          "execution_count": 4,
          "metadata": {},
          "output_type": "execute_result"
        }
      ],
      "source": [
        "newsgroups_train.filenames.shape, newsgroups_train.target.shape"
      ]
    },
    {
      "cell_type": "markdown",
      "metadata": {
        "id": "GOWcG7t0I2iF"
      },
      "source": [
        "Agora vamos usar o scikit learn para extrair todas as contagens de palavras para nós."
      ]
    },
    {
      "cell_type": "code",
      "execution_count": null,
      "metadata": {
        "id": "zfqVBbxuI2iF"
      },
      "outputs": [],
      "source": [
        "vectorizer = CountVectorizer(stop_words='english')"
      ]
    },
    {
      "cell_type": "markdown",
      "metadata": {
        "id": "v9Na0FgXI2iF"
      },
      "source": [
        "Agora vamos formatar o vertor de entrada que será utilizado para na fatoração do SVD."
      ]
    },
    {
      "cell_type": "code",
      "execution_count": null,
      "metadata": {
        "id": "66sUHdOsI2iF",
        "outputId": "1205d5e5-87f6-4382-adfc-8fd28b4607bd"
      },
      "outputs": [
        {
          "data": {
            "text/plain": [
              "(2034, 26576)"
            ]
          },
          "execution_count": 6,
          "metadata": {},
          "output_type": "execute_result"
        }
      ],
      "source": [
        "vectors = vectorizer.fit_transform(newsgroups_train.data).todense()\n",
        "vectors.shape"
      ]
    },
    {
      "cell_type": "markdown",
      "metadata": {
        "id": "8TEST1FnI2iG"
      },
      "source": [
        "Criando a matriz de vocabulario."
      ]
    },
    {
      "cell_type": "code",
      "execution_count": null,
      "metadata": {
        "id": "RhUPpyNuI2iG"
      },
      "outputs": [],
      "source": [
        "vocab = np.array(vectorizer.get_feature_names_out())"
      ]
    },
    {
      "cell_type": "markdown",
      "metadata": {
        "id": "R5_m3A82I2iG"
      },
      "source": [
        "Agora vamos usar o svd da biblioteca scipy.linalg para obtermos as matrizes unitaria, diagonal e unitaria transposta."
      ]
    },
    {
      "cell_type": "code",
      "execution_count": null,
      "metadata": {
        "id": "hGYQA9PBI2iG",
        "outputId": "f83fe304-c981-4981-8f6a-f35d78b52440"
      },
      "outputs": [
        {
          "data": {
            "text/plain": [
              "(array([[-4.77990794e-03, -2.71987875e-03,  1.21235561e-03, ...,\n",
              "         -7.17460933e-18, -4.41077075e-18, -3.34280611e-18],\n",
              "        [-2.21299669e-04,  1.74990511e-04,  1.07815079e-03, ...,\n",
              "          1.55587150e-16,  1.24516051e-16, -9.93194897e-17],\n",
              "        [-6.36934010e-04,  7.42290500e-04,  8.31832870e-04, ...,\n",
              "         -2.75828522e-16, -6.39534154e-17,  5.46135949e-17],\n",
              "        ...,\n",
              "        [-1.38527330e-03,  7.35183579e-04,  2.33163116e-04, ...,\n",
              "          1.36441761e-16, -6.47499090e-16, -1.67038285e-16],\n",
              "        [-2.17182920e-03, -6.80947315e-04,  9.56544786e-03, ...,\n",
              "          9.72630993e-17,  6.85757874e-17, -2.64274280e-18],\n",
              "        [ 0.00000000e+00,  0.00000000e+00,  0.00000000e+00, ...,\n",
              "          0.00000000e+00,  0.00000000e+00,  0.00000000e+00]]),\n",
              " array([4.33926985e+02, 2.91510127e+02, 2.40711377e+02, ...,\n",
              "        2.69231414e-14, 1.90845796e-14, 1.40361590e-14]),\n",
              " array([[-9.40971949e-03, -1.14531979e-02, -2.16949925e-05, ...,\n",
              "         -5.71798766e-06, -1.14359753e-05, -1.09243411e-03],\n",
              "        [ 3.56688261e-03,  1.76916681e-02,  3.04483622e-05, ...,\n",
              "          7.73124401e-06,  1.54624880e-05,  1.85490440e-03],\n",
              "        [-9.49713213e-04,  2.28284545e-02,  2.33939629e-05, ...,\n",
              "          1.22019598e-05,  2.44039195e-05, -1.50537828e-03],\n",
              "        ...,\n",
              "        [ 6.64553447e-03,  5.38642250e-03, -1.15000463e-03, ...,\n",
              "         -2.14968337e-05,  2.49506287e-07, -1.54240219e-04],\n",
              "        [ 9.00679123e-03, -9.31217097e-04, -4.84275249e-03, ...,\n",
              "          1.18142968e-04,  1.62673342e-04, -2.48999672e-04],\n",
              "        [ 2.22561799e-03, -2.76423271e-03, -5.95359033e-03, ...,\n",
              "          4.56299542e-05,  8.32416698e-05, -5.55819227e-04]]))"
            ]
          },
          "execution_count": 8,
          "metadata": {},
          "output_type": "execute_result"
        }
      ],
      "source": [
        "U, S, V_T = svd(vectors, full_matrices=False)\n",
        "U, S, V_T"
      ]
    },
    {
      "cell_type": "markdown",
      "metadata": {
        "id": "xofXFmAgI2iG"
      },
      "source": [
        "Vamos verificar as formas da matrizes resultante da vatoração dos SVD."
      ]
    },
    {
      "cell_type": "code",
      "execution_count": null,
      "metadata": {
        "id": "YMtfPVFyI2iG",
        "outputId": "51f4050f-2d5c-45cb-f280-bb38bbd82988"
      },
      "outputs": [
        {
          "data": {
            "text/plain": [
              "((2034, 2034), (2034,), (2034, 26576))"
            ]
          },
          "execution_count": 9,
          "metadata": {},
          "output_type": "execute_result"
        }
      ],
      "source": [
        "U.shape, S.shape, V_T.shape"
      ]
    },
    {
      "cell_type": "markdown",
      "metadata": {
        "id": "IYUoKzLqI2iH"
      },
      "source": [
        "Um dos principios do SVD é que ele permite que a partir das matriz gerada na fatoração a gente possa voltar a matriz de entrada, nesse forma vamos fazer uma função para averificação de tal caso."
      ]
    },
    {
      "cell_type": "code",
      "execution_count": null,
      "metadata": {
        "id": "eT-GWSYjI2iH"
      },
      "outputs": [],
      "source": [
        "# recebe como atributos a matris unitaria, sua transposta e a matriz diagonal.\n",
        "def recostruicao_matriz_entrada(u, s, vt):\n",
        "    # primeiro vamos trnasformar s em um matriz diagonal, para isso vamos utilizar a função diag na biblioteca numpy\n",
        "    sigma = np.diag(S)\n",
        "\n",
        "    r_vectors = u @ sigma @ vt\n",
        "\n",
        "    return r_vectors"
      ]
    },
    {
      "cell_type": "code",
      "execution_count": null,
      "metadata": {
        "id": "sueHaDxDI2iH"
      },
      "outputs": [],
      "source": [
        "r_v = recostruicao_matriz_entrada(U, S, V_T)"
      ]
    },
    {
      "cell_type": "markdown",
      "metadata": {
        "id": "5QXCJljfI2iH"
      },
      "source": [
        "Usaremos a função allclose da biblioteca numpy para verificar se realmente a matriz que foi reconstruida é igual a original. Usaremos a função numpy.allclose() para verificar se os dois arrays são iguais ou não, pelo fato dessa função retorna True se todos os elementos dentro de ambas as matrizes forem iguais dentro de uma tolerância especificada."
      ]
    },
    {
      "cell_type": "code",
      "execution_count": null,
      "metadata": {
        "id": "M0Qdzza0I2iH",
        "outputId": "f0246099-8779-4ab8-bda0-031c5630ee86"
      },
      "outputs": [
        {
          "data": {
            "text/plain": [
              "True"
            ]
          },
          "execution_count": 12,
          "metadata": {},
          "output_type": "execute_result"
        }
      ],
      "source": [
        "np.allclose(r_v, vectors)"
      ]
    },
    {
      "cell_type": "markdown",
      "metadata": {
        "id": "kkBF-v_LI2iI"
      },
      "source": [
        "Então como visto anteriomente, provamos que relamente é possivel reconstruir a matriz de entrada a partir da matrizes resultate da fatoração. Agora temos que provar se realmente a matriz unitaria e a matriz unitaria transposta são ortagonais."
      ]
    },
    {
      "cell_type": "code",
      "execution_count": null,
      "metadata": {
        "id": "ltgg9AJRI2iI",
        "outputId": "f3f6246f-2419-4b3e-d153-b97e281f1eaf"
      },
      "outputs": [
        {
          "data": {
            "text/plain": [
              "True"
            ]
          },
          "execution_count": 13,
          "metadata": {},
          "output_type": "execute_result"
        }
      ],
      "source": [
        "np.allclose(U.T @ U, np.eye(U.shape[0]))"
      ]
    },
    {
      "cell_type": "code",
      "execution_count": null,
      "metadata": {
        "id": "sAmuVTQmI2iI",
        "outputId": "a7ce2d89-a74a-4be8-fa11-422c78e889ad"
      },
      "outputs": [
        {
          "data": {
            "text/plain": [
              "True"
            ]
          },
          "execution_count": 14,
          "metadata": {},
          "output_type": "execute_result"
        }
      ],
      "source": [
        "np.allclose(V_T @ V_T.T, np.eye(V_T.shape[0]))"
      ]
    },
    {
      "cell_type": "markdown",
      "metadata": {
        "id": "rUXSWcjDI2iI"
      },
      "source": [
        "Iremos apresentar gráficamente os valores sigulares"
      ]
    },
    {
      "cell_type": "code",
      "execution_count": null,
      "metadata": {
        "id": "u5VsDoo0I2iM",
        "outputId": "02bb0293-a6db-4279-f1d9-9bac9cb70fd3"
      },
      "outputs": [
        {
          "data": {
            "text/plain": [
              "[<matplotlib.lines.Line2D at 0x2381de781f0>]"
            ]
          },
          "execution_count": 15,
          "metadata": {},
          "output_type": "execute_result"
        },
        {
          "data": {
            "image/png": "[encoded data removed]",
            "text/plain": [
              "<Figure size 432x288 with 1 Axes>"
            ]
          },
          "metadata": {
            "needs_background": "light"
          },
          "output_type": "display_data"
        }
      ],
      "source": [
        "plt.title(\"Valores Sigulares (∑)\")\n",
        "plt.plot(S)"
      ]
    },
    {
      "cell_type": "markdown",
      "metadata": {
        "id": "a1KQCQ5UI2iM"
      },
      "source": [
        "Pesebemos que tem um cotovelo proximo do 250, vamos diminuir a escala para um valor menor que esse, para podemos analisar melhor."
      ]
    },
    {
      "cell_type": "code",
      "execution_count": null,
      "metadata": {
        "id": "oK3qtloKI2iN",
        "outputId": "ec2adceb-5b2b-45c4-f1c4-51e6c155dadc"
      },
      "outputs": [
        {
          "data": {
            "text/plain": [
              "[<matplotlib.lines.Line2D at 0x2381e229c10>]"
            ]
          },
          "execution_count": 16,
          "metadata": {},
          "output_type": "execute_result"
        },
        {
          "data": {
            "image/png": "[encoded data removed]",
            "text/plain": [
              "<Figure size 432x288 with 1 Axes>"
            ]
          },
          "metadata": {
            "needs_background": "light"
          },
          "output_type": "display_data"
        }
      ],
      "source": [
        "plt.title(\"Valores Sigulares (∑)\")\n",
        "plt.plot(S[:50])"
      ]
    },
    {
      "cell_type": "markdown",
      "metadata": {
        "id": "W-5HIw4aI2iN"
      },
      "source": [
        "Agora foi possivel ver a variação melhor, se diminimuimos mais, será mais fácil analisar a onda de variação."
      ]
    },
    {
      "cell_type": "code",
      "execution_count": null,
      "metadata": {
        "id": "48y2fFJWI2iN",
        "outputId": "0393951e-a7ec-482e-90a4-5cc35f716c48"
      },
      "outputs": [
        {
          "data": {
            "text/plain": [
              "[<matplotlib.lines.Line2D at 0x2381deb8700>]"
            ]
          },
          "execution_count": 17,
          "metadata": {},
          "output_type": "execute_result"
        },
        {
          "data": {
            "image/png": "[encoded data removed]",
            "text/plain": [
              "<Figure size 432x288 with 1 Axes>"
            ]
          },
          "metadata": {
            "needs_background": "light"
          },
          "output_type": "display_data"
        }
      ],
      "source": [
        "plt.title(\"Valores Sigulares (∑)\")\n",
        "plt.plot(S[:10])"
      ]
    },
    {
      "cell_type": "markdown",
      "metadata": {
        "id": "5lUI2bi0I2iN"
      },
      "source": [
        "Agora temos uma representação melhor, com isso vamos utilizar esse trecho para apresentar os tópicos dessa variação. Para isso será necessário criar uma função, na qual irá reber a matriz diagonal (valores singulares), o numero de tópicos e a matriz de vocabularios que criamos anteriomente."
      ]
    },
    {
      "cell_type": "code",
      "execution_count": null,
      "metadata": {
        "id": "IfqLQN3rI2iO"
      },
      "outputs": [],
      "source": [
        "def show_topics(a, num, matriz):\n",
        "    top_words = lambda t: [matriz[i] for i in np.argsort(t)[:-num-1:-1]]\n",
        "    topic_words = ([top_words(t) for t in a])\n",
        "    return [' '.join(t) for t in topic_words]"
      ]
    },
    {
      "cell_type": "markdown",
      "metadata": {
        "id": "mWFAxXnpI2iO"
      },
      "source": [
        "Agora vamos utilizar essa função que criamos para obtemos os tópicos que correspondem aos tipos de clusters que esperaríamos buscando. Isso ocorre apesar do fato de ser um algoritmo não supervisionado, ou seja, nunca dissemos ao algoritmo como nossos documentos são agrupados."
      ]
    },
    {
      "cell_type": "code",
      "execution_count": null,
      "metadata": {
        "id": "_eWZmPUKI2iO",
        "outputId": "b5d4e7d4-483b-4dfb-8518-decd61dc7431"
      },
      "outputs": [
        {
          "data": {
            "text/plain": [
              "['critus ditto propagandist surname galacticentric kindergarten surreal imaginative',\n",
              " 'edu graphics data space pub mail 128 3d',\n",
              " 'space jesus launch god people satellite matthew atheists',\n",
              " 'space launch satellite commercial nasa satellites market year',\n",
              " 'jpeg graphics space pub edu ray mail send',\n",
              " 'jesus matthew prophecy messiah psalm isaiah david said',\n",
              " 'launch commercial satellite market image services satellites launches',\n",
              " 'data available nasa ftp grass anonymous contact gov',\n",
              " 'atheists god religious atheism religion believe belief atheist',\n",
              " 'probe data surface moon mars probes lunar launch']"
            ]
          },
          "execution_count": 19,
          "metadata": {},
          "output_type": "execute_result"
        }
      ],
      "source": [
        "show_topics(V_T[:10], 8, vocab)"
      ]
    },
    {
      "cell_type": "markdown",
      "metadata": {
        "id": "XvmQWASgI2iO"
      },
      "source": [
        "Agora iremos utilizar o NMF para fazemos nossas analizes."
      ]
    },
    {
      "cell_type": "markdown",
      "metadata": {
        "id": "WkaVr355I2iO"
      },
      "source": [
        "Inicialmente vamos pegar o número de linhas e colunas da nossa matriz de entra e armazenar em variaveis auxiliar (m e n), além de definimos a quantidade de tópicos que queremos analisar."
      ]
    },
    {
      "cell_type": "code",
      "execution_count": null,
      "metadata": {
        "id": "thI3uMP1I2iO"
      },
      "outputs": [],
      "source": [
        "m, n = vectors.shape\n",
        "num_top = 6"
      ]
    },
    {
      "cell_type": "markdown",
      "metadata": {
        "id": "bUXbpJeBI2iP"
      },
      "source": [
        "Vamos fazer a fatoração de entrada na matriz de recursos e na matriz de coeficientes. Para isso vamos utilizar a função NMF da biblioteca sklearn.decomposition. Para garantir a integridade, iremos carregar os dados da nossa matriz de entrada novamente."
      ]
    },
    {
      "cell_type": "code",
      "execution_count": null,
      "metadata": {
        "id": "hsxOETPJI2iP"
      },
      "outputs": [],
      "source": [
        "vectors = vectorizer.fit_transform(newsgroups_train.data).todense()"
      ]
    },
    {
      "cell_type": "code",
      "execution_count": null,
      "metadata": {
        "id": "79LQH1ZsI2iP",
        "outputId": "ead487bc-f960-416b-e44e-8c4b1a56987f"
      },
      "outputs": [
        {
          "name": "stderr",
          "output_type": "stream",
          "text": [
            "C:\\Users\\aliss\\anaconda3\\lib\\site-packages\\sklearn\\decomposition\\_nmf.py:289: FutureWarning: The 'init' value, when 'init=None' and n_components is less than n_samples and n_features, will be changed from 'nndsvd' to 'nndsvda' in 1.1 (renaming of 0.26).\n",
            "  warnings.warn(\n"
          ]
        }
      ],
      "source": [
        "m_nmf = NMF(n_components=num_top, random_state=1)\n",
        "\n",
        "W = m_nmf.fit_transform(np.asarray(vectors))\n",
        "H = m_nmf.components_"
      ]
    },
    {
      "cell_type": "code",
      "execution_count": null,
      "metadata": {
        "id": "2hBIEPidI2iP",
        "outputId": "4cb93b83-f743-4a81-a6a9-f6be60699dc4"
      },
      "outputs": [
        {
          "data": {
            "text/plain": [
              "['jpeg image gif file color images format quality',\n",
              " 'edu graphics pub mail 128 ray ftp send',\n",
              " 'space launch satellite nasa commercial satellites year market',\n",
              " 'jesus matthew prophecy people said messiah david isaiah',\n",
              " 'image data available software processing ftp edu analysis',\n",
              " 'god atheists atheism religious believe people religion does']"
            ]
          },
          "execution_count": 23,
          "metadata": {},
          "output_type": "execute_result"
        }
      ],
      "source": [
        "show_topics(H, 8, vocab)"
      ]
    },
    {
      "cell_type": "markdown",
      "metadata": {
        "id": "dWDWHPVaI2iP"
      },
      "source": [
        "Podemos analisar que em ambos os métodos chegamos em conjuntos que se assemelham. Mas para a nossa analise da NMF ficar completa, vamos fazer uma analise em TF-IDF que é uma maneira de normalizar a contagem de termos levando em consideração a frequência com que elas aparecem no documento, o tamanho do documento e o quão comum/raro é o termo.\n",
        "\n",
        "Para isso teremos que calcular o TF e o IDF. O TF é dado pelo quociente resultante do número de ocorrência pelo número todal palavras. Enquanto o DF é dado pelo log do número de documentos dividido pelo número documentos com termo t nele.\n",
        "\n",
        "Iremos recarregar os dados em novas variaveis para não perdemos os valores calculados anteriormente e depois de recalcular a NMF, iremos plotar o gráfico da TF-IDF."
      ]
    },
    {
      "cell_type": "code",
      "execution_count": null,
      "metadata": {
        "id": "8jkufJJgI2iQ"
      },
      "outputs": [],
      "source": [
        "vectorizer_tfidf = TfidfVectorizer(stop_words='english')\n",
        "vectors_tfidf = vectorizer_tfidf.fit_transform(newsgroups_train.data)"
      ]
    },
    {
      "cell_type": "code",
      "execution_count": null,
      "metadata": {
        "id": "sYL58yPzI2iQ",
        "outputId": "52b35031-c75c-4ed9-ae20-748eaa13a2d5"
      },
      "outputs": [
        {
          "name": "stderr",
          "output_type": "stream",
          "text": [
            "C:\\Users\\aliss\\anaconda3\\lib\\site-packages\\sklearn\\decomposition\\_nmf.py:289: FutureWarning: The 'init' value, when 'init=None' and n_components is less than n_samples and n_features, will be changed from 'nndsvd' to 'nndsvda' in 1.1 (renaming of 0.26).\n",
            "  warnings.warn(\n"
          ]
        }
      ],
      "source": [
        "W1 = m_nmf.fit_transform(vectors_tfidf)\n",
        "H1 = m_nmf.components_"
      ]
    },
    {
      "cell_type": "markdown",
      "metadata": {
        "id": "6agGHIIgI2iQ"
      },
      "source": [
        "Para provar que estamos utilizando o mesmo resultado da NMF, vamos apresentar a matriz de coeficiente."
      ]
    },
    {
      "cell_type": "code",
      "execution_count": null,
      "metadata": {
        "id": "FsSBvPkXI2iQ",
        "outputId": "91a06c0a-5a30-47ff-9c4d-30579d1fa7a6"
      },
      "outputs": [
        {
          "data": {
            "text/plain": [
              "['don people just think like know say religion',\n",
              " 'thanks graphics files image file program windows format',\n",
              " 'space nasa launch shuttle orbit lunar moon earth',\n",
              " 'ico bobbe tek beauchaine bronx manhattan sank queens',\n",
              " 'god jesus bible believe atheism christian does belief',\n",
              " 'objective morality values moral subjective science absolute claim']"
            ]
          },
          "execution_count": 26,
          "metadata": {},
          "output_type": "execute_result"
        }
      ],
      "source": [
        "show_topics(H1, 8, vocab)"
      ]
    },
    {
      "cell_type": "markdown",
      "metadata": {
        "id": "OcVePk3YI2iQ"
      },
      "source": [
        "Agora para fechar a analise iremos plotar o gráfico da TF-IDF e obter a aproximação do erro, pois como vimos na introdução o método NMF resulta em um valor aploximado, pelo fato da eleminação dos números negativos."
      ]
    },
    {
      "cell_type": "code",
      "execution_count": null,
      "metadata": {
        "id": "IeBsMiH0I2iQ",
        "outputId": "2bbc166a-66a1-4854-b667-293f27e626d5"
      },
      "outputs": [
        {
          "data": {
            "text/plain": [
              "[<matplotlib.lines.Line2D at 0x2381e224a30>]"
            ]
          },
          "execution_count": 27,
          "metadata": {},
          "output_type": "execute_result"
        },
        {
          "data": {
            "image/png": "[encoded data removed]",
            "text/plain": [
              "<Figure size 432x288 with 1 Axes>"
            ]
          },
          "metadata": {
            "needs_background": "light"
          },
          "output_type": "display_data"
        }
      ],
      "source": [
        "plt.title(\"IF-IDF\")\n",
        "plt.plot(m_nmf.components_[0])"
      ]
    },
    {
      "cell_type": "code",
      "execution_count": null,
      "metadata": {
        "id": "BGuVLcs_I2iR",
        "outputId": "421737ab-3d35-41ba-9685-849b4d4b88b8"
      },
      "outputs": [
        {
          "data": {
            "text/plain": [
              "43.645567658711265"
            ]
          },
          "execution_count": 28,
          "metadata": {},
          "output_type": "execute_result"
        }
      ],
      "source": [
        "m_nmf.reconstruction_err_"
      ]
    },
    {
      "cell_type": "markdown",
      "metadata": {
        "id": "I7mCBAq1I2iR"
      },
      "source": [
        "<hr>"
      ]
    },
    {
      "cell_type": "markdown",
      "metadata": {
        "id": "JGLmgttKI2iR"
      },
      "source": [
        "Agora vamos aplicar os mesmo processo em um outro exemplo, para fixar o conhecimento."
      ]
    },
    {
      "cell_type": "markdown",
      "metadata": {
        "id": "lCjqIGdQI2iR"
      },
      "source": [
        "Para a segunda analise iremos utilizar um dataset da <a href=\"https://www.kaggle.com/dataset\">Kaggle</a>, vamos trabalhar com um conjunto de artigos de notícias (AG-News).\n",
        "\n",
        "Sobre o conjunto temos a seguinte descrição: é um grande conjunto de dados que consiste em um conjunto de treinamento de 10.000 exemplos e um conjunto de teste de 5.000 exemplos. Os exemplos são divididos igualmente em duas classes: positivos e negativos. Isso torna o conjunto de dados adequado para pesquisa em métodos de classificação de texto. Que é o objetivo desse artigo.\n",
        "\n",
        "Esse dataset possui os seguintes contente:\n",
        "\n",
        "- text\t~> O texto da notícia. (fragmento)\n",
        "- label ~>\tO rótulo do artigo de notícias. (inteiro)\n",
        "\n",
        "Iremis analisar a coluna text, que o tipo de dado é texto, assim realizando uma analise parecida com a feita anteriomente.\n",
        "\n",
        "Para ter acesso ao dataset e mais informações sobre o dados é só acessar <a href=\"https://www.kaggle.com/datasets/thedevastator/new-dataset-for-text-classification-ag-news\">aqui</a>."
      ]
    },
    {
      "cell_type": "markdown",
      "metadata": {
        "id": "NjAGsEmSI2iR"
      },
      "source": [
        "Fizemos o download do dataset de teste e iremos fazer a leitura e tratamento."
      ]
    },
    {
      "cell_type": "code",
      "execution_count": null,
      "metadata": {
        "id": "mxGYWfM2I2iR"
      },
      "outputs": [],
      "source": [
        "# instanciando o modelo\n",
        "df = pd.read_csv(\"C:/Users/aliss/Downloads/test.csv/test.csv\")"
      ]
    },
    {
      "cell_type": "markdown",
      "metadata": {
        "id": "440F4EAqI2iS"
      },
      "source": [
        "Vamos apresentar o começo do dataframe para observamos o tipo de dado estamos lidando."
      ]
    },
    {
      "cell_type": "code",
      "execution_count": null,
      "metadata": {
        "id": "092xdQLQI2iS",
        "outputId": "e248a7bc-cf69-4135-e8f0-8248a569bae7"
      },
      "outputs": [
        {
          "data": {
            "text/html": [
              "<div>\n",
              "<style scoped>\n",
              "    .dataframe tbody tr th:only-of-type {\n",
              "        vertical-align: middle;\n",
              "    }\n",
              "\n",
              "    .dataframe tbody tr th {\n",
              "        vertical-align: top;\n",
              "    }\n",
              "\n",
              "    .dataframe thead th {\n",
              "        text-align: right;\n",
              "    }\n",
              "</style>\n",
              "<table border=\"1\" class=\"dataframe\">\n",
              "  <thead>\n",
              "    <tr style=\"text-align: right;\">\n",
              "      <th></th>\n",
              "      <th>text</th>\n",
              "      <th>label</th>\n",
              "    </tr>\n",
              "  </thead>\n",
              "  <tbody>\n",
              "    <tr>\n",
              "      <th>0</th>\n",
              "      <td>Fears for T N pension after talks Unions repre...</td>\n",
              "      <td>2</td>\n",
              "    </tr>\n",
              "    <tr>\n",
              "      <th>1</th>\n",
              "      <td>The Race is On: Second Private Team Sets Launc...</td>\n",
              "      <td>3</td>\n",
              "    </tr>\n",
              "    <tr>\n",
              "      <th>2</th>\n",
              "      <td>Ky. Company Wins Grant to Study Peptides (AP) ...</td>\n",
              "      <td>3</td>\n",
              "    </tr>\n",
              "    <tr>\n",
              "      <th>3</th>\n",
              "      <td>Prediction Unit Helps Forecast Wildfires (AP) ...</td>\n",
              "      <td>3</td>\n",
              "    </tr>\n",
              "    <tr>\n",
              "      <th>4</th>\n",
              "      <td>Calif. Aims to Limit Farm-Related Smog (AP) AP...</td>\n",
              "      <td>3</td>\n",
              "    </tr>\n",
              "    <tr>\n",
              "      <th>...</th>\n",
              "      <td>...</td>\n",
              "      <td>...</td>\n",
              "    </tr>\n",
              "    <tr>\n",
              "      <th>7595</th>\n",
              "      <td>Around the world Ukrainian presidential candid...</td>\n",
              "      <td>0</td>\n",
              "    </tr>\n",
              "    <tr>\n",
              "      <th>7596</th>\n",
              "      <td>Void is filled with Clement With the supply of...</td>\n",
              "      <td>1</td>\n",
              "    </tr>\n",
              "    <tr>\n",
              "      <th>7597</th>\n",
              "      <td>Martinez leaves bitter Like Roger Clemens did ...</td>\n",
              "      <td>1</td>\n",
              "    </tr>\n",
              "    <tr>\n",
              "      <th>7598</th>\n",
              "      <td>5 of arthritis patients in Singapore take Bext...</td>\n",
              "      <td>2</td>\n",
              "    </tr>\n",
              "    <tr>\n",
              "      <th>7599</th>\n",
              "      <td>EBay gets into rentals EBay plans to buy the a...</td>\n",
              "      <td>2</td>\n",
              "    </tr>\n",
              "  </tbody>\n",
              "</table>\n",
              "<p>7600 rows × 2 columns</p>\n",
              "</div>"
            ],
            "text/plain": [
              "                                                   text  label\n",
              "0     Fears for T N pension after talks Unions repre...      2\n",
              "1     The Race is On: Second Private Team Sets Launc...      3\n",
              "2     Ky. Company Wins Grant to Study Peptides (AP) ...      3\n",
              "3     Prediction Unit Helps Forecast Wildfires (AP) ...      3\n",
              "4     Calif. Aims to Limit Farm-Related Smog (AP) AP...      3\n",
              "...                                                 ...    ...\n",
              "7595  Around the world Ukrainian presidential candid...      0\n",
              "7596  Void is filled with Clement With the supply of...      1\n",
              "7597  Martinez leaves bitter Like Roger Clemens did ...      1\n",
              "7598  5 of arthritis patients in Singapore take Bext...      2\n",
              "7599  EBay gets into rentals EBay plans to buy the a...      2\n",
              "\n",
              "[7600 rows x 2 columns]"
            ]
          },
          "execution_count": 30,
          "metadata": {},
          "output_type": "execute_result"
        }
      ],
      "source": [
        "df"
      ]
    },
    {
      "cell_type": "markdown",
      "metadata": {
        "id": "MpCzywRpI2iS"
      },
      "source": [
        "Vamos separar apenas a colunas que vamos trabalhar, que no caso é text."
      ]
    },
    {
      "cell_type": "code",
      "execution_count": null,
      "metadata": {
        "id": "JUMdd6syI2iS",
        "outputId": "fada2737-c0af-4da8-e67c-a13f0a643e11"
      },
      "outputs": [
        {
          "data": {
            "text/plain": [
              "0       Fears for T N pension after talks Unions repre...\n",
              "1       The Race is On: Second Private Team Sets Launc...\n",
              "2       Ky. Company Wins Grant to Study Peptides (AP) ...\n",
              "3       Prediction Unit Helps Forecast Wildfires (AP) ...\n",
              "4       Calif. Aims to Limit Farm-Related Smog (AP) AP...\n",
              "                              ...                        \n",
              "7595    Around the world Ukrainian presidential candid...\n",
              "7596    Void is filled with Clement With the supply of...\n",
              "7597    Martinez leaves bitter Like Roger Clemens did ...\n",
              "7598    5 of arthritis patients in Singapore take Bext...\n",
              "7599    EBay gets into rentals EBay plans to buy the a...\n",
              "Name: text, Length: 7600, dtype: object"
            ]
          },
          "execution_count": 31,
          "metadata": {},
          "output_type": "execute_result"
        }
      ],
      "source": [
        "texto = df['text']\n",
        "texto"
      ]
    },
    {
      "cell_type": "markdown",
      "metadata": {
        "id": "D8YyAvc1I2iS"
      },
      "source": [
        "Vamos olhar a forma dos nossos dados."
      ]
    },
    {
      "cell_type": "code",
      "execution_count": null,
      "metadata": {
        "id": "TDn0nrP_I2iS",
        "outputId": "4efc94cb-6fca-4170-fe9b-f78a1a5c616b"
      },
      "outputs": [
        {
          "data": {
            "text/plain": [
              "(7600,)"
            ]
          },
          "execution_count": 32,
          "metadata": {},
          "output_type": "execute_result"
        }
      ],
      "source": [
        "texto.shape"
      ]
    },
    {
      "cell_type": "markdown",
      "metadata": {
        "id": "xelzDTMEI2iT"
      },
      "source": [
        "Faremos algumas funções anônimas que extraem alguns padrões como caracteres alphanuméricos, pontuações e espaços a mais. E aplicaremos no nosso conjunto de dados."
      ]
    },
    {
      "cell_type": "code",
      "execution_count": null,
      "metadata": {
        "id": "ZvoyB2_5I2iT"
      },
      "outputs": [],
      "source": [
        "# bibliotecas para manipulação de dados\n",
        "import re\n",
        "import string\n",
        "\n",
        "# remover caracteres alphanuméricos\n",
        "alphanumeric = lambda x: re.sub('\\w*\\d\\w*', '', x)\n",
        "\n",
        "# remover pontuações\n",
        "punc = lambda x: re.sub('[%s]' % re.escape(string.punctuation), ' ', x)\n",
        "\n",
        "# remover espaços duplos\n",
        "remove_space = lambda x: x.replace('  ', ' ')\n",
        "\n",
        "# aplicando as funções\n",
        "texto = (texto.map(alphanumeric).map(punc).map(remove_space))"
      ]
    },
    {
      "cell_type": "markdown",
      "metadata": {
        "id": "3Ms3kLEGI2iT"
      },
      "source": [
        "Agora que os nossos dados foram preprocessados, vamos começar a preparalo para analise. Para isso fizemos a contagem das palavras e montamos a nossa matriz de entrada."
      ]
    },
    {
      "cell_type": "code",
      "execution_count": null,
      "metadata": {
        "id": "ChWTw5NPI2iT",
        "outputId": "21d19ba9-bf23-4f97-a115-50b57187aec5"
      },
      "outputs": [
        {
          "data": {
            "text/plain": [
              "(7600, 20791)"
            ]
          },
          "execution_count": 34,
          "metadata": {},
          "output_type": "execute_result"
        }
      ],
      "source": [
        "vectorizer = CountVectorizer(stop_words='english')\n",
        "vectors = vectorizer.fit_transform(texto).todense()\n",
        "vectors.shape"
      ]
    },
    {
      "cell_type": "markdown",
      "metadata": {
        "id": "7X4grc13I2iT"
      },
      "source": [
        "Iremos montar a nossa matriz de vocabularioa e visualizar o seu formato e algumas palavras que ele compoe."
      ]
    },
    {
      "cell_type": "code",
      "execution_count": null,
      "metadata": {
        "id": "MbU0oWj3I2iT",
        "outputId": "26ad9755-ea66-40ba-a158-4ce2c9a8e7c7"
      },
      "outputs": [
        {
          "name": "stderr",
          "output_type": "stream",
          "text": [
            "C:\\Users\\aliss\\anaconda3\\lib\\site-packages\\sklearn\\utils\\deprecation.py:87: FutureWarning: Function get_feature_names is deprecated; get_feature_names is deprecated in 1.0 and will be removed in 1.2. Please use get_feature_names_out instead.\n",
            "  warnings.warn(msg, category=FutureWarning)\n"
          ]
        },
        {
          "data": {
            "text/plain": [
              "(20791,)"
            ]
          },
          "execution_count": 35,
          "metadata": {},
          "output_type": "execute_result"
        }
      ],
      "source": [
        "vocab = np.asarray(vectorizer.get_feature_names())\n",
        "vocab.shape"
      ]
    },
    {
      "cell_type": "code",
      "execution_count": null,
      "metadata": {
        "id": "d1spafFhI2iU",
        "outputId": "c840b8e4-8c8e-480a-ee42-2190d6f6abcc"
      },
      "outputs": [
        {
          "data": {
            "text/plain": [
              "array(['foa', 'foaf', 'foafkey', 'focus', 'focused', 'focuses',\n",
              "       'focusing', 'foe', 'foen', 'foes', 'fog', 'foggia', 'foi', 'foie',\n",
              "       'foil', 'foiled', 'foils', 'fold', 'folded', 'folders', 'foley',\n",
              "       'folgers', 'folks', 'follow', 'followed', 'followers', 'following',\n",
              "       'follows', 'fon', 'fond', 'font', 'fonterra', 'fonterras', 'food',\n",
              "       'foodland', 'foods', 'fool', 'fooling', 'foolish', 'foot',\n",
              "       'footage', 'football', 'footballer', 'footballers', 'foothold',\n",
              "       'footing', 'footnote', 'footprint', 'footrace', 'footsteps',\n",
              "       'footwear', 'foraging', 'foray', 'forbes', 'force', 'forced',\n",
              "       'forcefully', 'forces', 'forcibly', 'forcing', 'ford', 'fore',\n",
              "       'foreboding', 'forecast', 'forecasters', 'forecasting',\n",
              "       'forecasts', 'forego', 'foregone', 'forehands', 'forehead',\n",
              "       'foreign', 'foreigner', 'foreigners', 'forensic', 'forerunner',\n",
              "       'foreseeable', 'foreseeing', 'foreshadowing', 'forest',\n",
              "       'forestall', 'forestry', 'forests', 'forever', 'forfeited',\n",
              "       'forge', 'forged', 'forges', 'forget', 'forging', 'forgive',\n",
              "       'forgoes', 'forgoing', 'forks', 'form', 'formal', 'formality',\n",
              "       'formalized', 'formally', 'format', 'formation', 'formations',\n",
              "       'formats', 'formed', 'formidable', 'forming', 'formisano', 'forms',\n",
              "       'formula', 'formulas', 'formulate', 'formulated', 'formulates',\n",
              "       'forrester', 'forsberg', 'forsyth', 'fort', 'forth', 'forthcoming',\n",
              "       'forthright', 'fortified', 'fortunate', 'fortune', 'fortunes',\n",
              "       'forum', 'forums', 'forward', 'forwarding', 'forwards', 'foss',\n",
              "       'fossil', 'fossils', 'foster', 'fostering', 'foudy', 'fought',\n",
              "       'foul', 'fouled', 'fouls', 'foundation', 'foundations', 'founded',\n",
              "       'founder', 'foundering', 'founders', 'founding', 'fountain',\n",
              "       'fourball', 'fourier', 'fourteen', 'fourth', 'fowl', 'fowler',\n",
              "       'fox', 'foxboro', 'foxborough', 'foxes', 'foxfire', 'fph',\n",
              "       'fractal', 'fractious', 'fracture', 'fractured', 'fractures',\n",
              "       'fracturing', 'fragile', 'fragment', 'fragmentation', 'frail',\n",
              "       'frailties', 'frame', 'framework', 'frameworks', 'framingh',\n",
              "       'framingham', 'franc', 'france', 'frances', 'francesco',\n",
              "       'franchise', 'franchisees', 'franchises', 'franchitti', 'francis',\n",
              "       'francisco', 'franciscosun', 'franco', 'francois', 'francona',\n",
              "       'frank', 'franked', 'frankel', 'frankenfish', 'frankfurt',\n",
              "       'franklin', 'frantic', 'frantically', 'franz', 'fraser',\n",
              "       'fratello'], dtype='<U36')"
            ]
          },
          "execution_count": 36,
          "metadata": {},
          "output_type": "execute_result"
        }
      ],
      "source": [
        "vocab[7000:7200]"
      ]
    },
    {
      "cell_type": "markdown",
      "metadata": {
        "id": "M3bcqS3lI2iU"
      },
      "source": [
        "Agoras iremos aplicar a função svd e descubri as mastrizes unitarias e a diagonal."
      ]
    },
    {
      "cell_type": "code",
      "execution_count": null,
      "metadata": {
        "id": "wJcv80DRI2iU"
      },
      "outputs": [],
      "source": [
        "U, S, V_T = svd(vectors, full_matrices=False)"
      ]
    },
    {
      "cell_type": "markdown",
      "metadata": {
        "id": "kLCwBkfLI2iU"
      },
      "source": [
        "Vamos visualizar seu formato."
      ]
    },
    {
      "cell_type": "code",
      "execution_count": null,
      "metadata": {
        "id": "W2qlvcyWI2iU",
        "outputId": "3e28b586-1be3-4ddd-f98c-0a33a109dc3f"
      },
      "outputs": [
        {
          "data": {
            "text/plain": [
              "((7600, 7600), (7600,), (7600, 20791))"
            ]
          },
          "execution_count": 38,
          "metadata": {},
          "output_type": "execute_result"
        }
      ],
      "source": [
        "U.shape, S.shape, V_T.shape"
      ]
    },
    {
      "cell_type": "markdown",
      "metadata": {
        "id": "I_AeIgADI2iV"
      },
      "source": [
        "Como fizemos no exemplo anterior, iremos verificar conseguimos reconstruir a matriz de entrada e se as matrizes unitaria e unitaria transposta são realmente ortagonais."
      ]
    },
    {
      "cell_type": "code",
      "execution_count": null,
      "metadata": {
        "id": "1oPvkzjvI2iV",
        "outputId": "1b374339-4caa-4a39-9df2-c2677fa29a81"
      },
      "outputs": [
        {
          "data": {
            "text/plain": [
              "True"
            ]
          },
          "execution_count": 39,
          "metadata": {},
          "output_type": "execute_result"
        }
      ],
      "source": [
        "r_v = recostruicao_matriz_entrada(U, S, V_T)\n",
        "np.allclose(r_v, vectors)"
      ]
    },
    {
      "cell_type": "markdown",
      "metadata": {
        "id": "08XdxKS_I2iV"
      },
      "source": [
        "Como foi possivel observar mais uma vem se provou que é possível fazer uma reconstrução considerando uma intervalo de aceitação utilizado pela própria função allclose. Agora vamos ver se são ortagonais."
      ]
    },
    {
      "cell_type": "code",
      "execution_count": null,
      "metadata": {
        "id": "ANVkn34hI2iV",
        "outputId": "8af8249f-419a-4cd7-c60f-56851b75414a"
      },
      "outputs": [
        {
          "data": {
            "text/plain": [
              "True"
            ]
          },
          "execution_count": 40,
          "metadata": {},
          "output_type": "execute_result"
        }
      ],
      "source": [
        "np.allclose(U.T @ U, np.eye(U.shape[0]))"
      ]
    },
    {
      "cell_type": "code",
      "execution_count": null,
      "metadata": {
        "id": "918C8_pWI2iV",
        "outputId": "eda04c57-a9c3-4b2d-ad0e-876c71e0e36e"
      },
      "outputs": [
        {
          "data": {
            "text/plain": [
              "True"
            ]
          },
          "execution_count": 41,
          "metadata": {},
          "output_type": "execute_result"
        }
      ],
      "source": [
        "np.allclose(V_T @ V_T.T, np.eye(V_T.shape[0]))"
      ]
    },
    {
      "cell_type": "markdown",
      "metadata": {
        "id": "qFQzPOwzI2iV"
      },
      "source": [
        "Mais uma vez foi provado que é ortagonal. Agora vamos plotar o gráfico da matrriz diagonal para analizar onde temos uma cotovelo, decaimento acentuado, das concentração dos valores singulares."
      ]
    },
    {
      "cell_type": "code",
      "execution_count": null,
      "metadata": {
        "id": "KpgQDhG_I2iV",
        "outputId": "f4fc89a4-bb61-4f37-810c-58929c7b897f"
      },
      "outputs": [
        {
          "data": {
            "text/plain": [
              "[<matplotlib.lines.Line2D at 0x23822336c70>]"
            ]
          },
          "execution_count": 42,
          "metadata": {},
          "output_type": "execute_result"
        },
        {
          "data": {
            "image/png": "[encoded data removed]",
            "text/plain": [
              "<Figure size 432x288 with 1 Axes>"
            ]
          },
          "metadata": {
            "needs_background": "light"
          },
          "output_type": "display_data"
        }
      ],
      "source": [
        "plt.title(\"Valores Sigulares (∑)\")\n",
        "plt.plot(S)"
      ]
    },
    {
      "cell_type": "markdown",
      "metadata": {
        "id": "23wAK-AQI2iW"
      },
      "source": [
        "Pesebemos que tem um cotovelo proximo do 1000, vamos diminuir a escala para um valor menor que esse, para podemos analisar melhor."
      ]
    },
    {
      "cell_type": "code",
      "execution_count": null,
      "metadata": {
        "id": "AnLMWH4NI2iW",
        "outputId": "6b612c84-4b25-45cd-8782-2a011cf4fd46"
      },
      "outputs": [
        {
          "data": {
            "text/plain": [
              "[<matplotlib.lines.Line2D at 0x2381ea39b80>]"
            ]
          },
          "execution_count": 43,
          "metadata": {},
          "output_type": "execute_result"
        },
        {
          "data": {
            "image/png": "[encoded data removed]",
            "text/plain": [
              "<Figure size 432x288 with 1 Axes>"
            ]
          },
          "metadata": {
            "needs_background": "light"
          },
          "output_type": "display_data"
        }
      ],
      "source": [
        "plt.title(\"Valores Sigulares (∑)\")\n",
        "plt.plot(S[:500])"
      ]
    },
    {
      "cell_type": "markdown",
      "metadata": {
        "id": "m8DBWzx7I2iW"
      },
      "source": [
        "Vamos redizir mais a onda de analiza, para tentar pegar melhor o fluxo de variação."
      ]
    },
    {
      "cell_type": "code",
      "execution_count": null,
      "metadata": {
        "id": "Pu02PsqFI2iW",
        "outputId": "3a434686-d218-4057-e5e4-a0f3ab485a4f"
      },
      "outputs": [
        {
          "data": {
            "text/plain": [
              "[<matplotlib.lines.Line2D at 0x23827edaa00>]"
            ]
          },
          "execution_count": 44,
          "metadata": {},
          "output_type": "execute_result"
        },
        {
          "data": {
            "image/png": "[encoded data removed]",
            "text/plain": [
              "<Figure size 432x288 with 1 Axes>"
            ]
          },
          "metadata": {
            "needs_background": "light"
          },
          "output_type": "display_data"
        }
      ],
      "source": [
        "plt.title(\"Valores Sigulares (∑)\")\n",
        "plt.plot(S[:50])"
      ]
    },
    {
      "cell_type": "markdown",
      "metadata": {
        "id": "pWnhXahQI2iW"
      },
      "source": [
        "Temos um maior fluxo próximo ao 10, então iremos analisá-lo"
      ]
    },
    {
      "cell_type": "code",
      "execution_count": null,
      "metadata": {
        "id": "_7o-avT0I2iW",
        "outputId": "75f7b071-fba7-4127-cfa8-ac93b38d041c"
      },
      "outputs": [
        {
          "data": {
            "text/plain": [
              "[<matplotlib.lines.Line2D at 0x2381dcf5340>]"
            ]
          },
          "execution_count": 45,
          "metadata": {},
          "output_type": "execute_result"
        },
        {
          "data": {
            "image/png": "[encoded data removed]",
            "text/plain": [
              "<Figure size 432x288 with 1 Axes>"
            ]
          },
          "metadata": {
            "needs_background": "light"
          },
          "output_type": "display_data"
        }
      ],
      "source": [
        "plt.title(\"Valores Sigulares (∑)\")\n",
        "plt.plot(S[:10])"
      ]
    },
    {
      "cell_type": "markdown",
      "metadata": {
        "id": "zZaoH73_I2iX"
      },
      "source": [
        "Como é possível perceber no gráfico anterior, o inicio do cotovelo é nas redondeza do 5. Vamos guadar esse valor que será util para a continuação da nossa analise. Esse valor será usado na delimitação das nossas setenças que iremos apresentar a segui."
      ]
    },
    {
      "cell_type": "code",
      "execution_count": null,
      "metadata": {
        "id": "azSrRxj6I2iX",
        "outputId": "5ec9f27b-7c87-4d80-ddc6-02ec67f919e0"
      },
      "outputs": [
        {
          "data": {
            "text/plain": [
              "['gt lt reuters fullquote new',\n",
              " 'gt lt font fullquote http',\n",
              " 'ap gt lt quot font',\n",
              " 'new quot microsoft gt lt',\n",
              " 'new ap york stocks fullquote',\n",
              " 'said oil iraq gt lt',\n",
              " 'oil prices quot crude record',\n",
              " 'new reuters iraq president bush',\n",
              " 'said oil new stocks ap',\n",
              " 'microsoft reuters iraq software search']"
            ]
          },
          "execution_count": 46,
          "metadata": {},
          "output_type": "execute_result"
        }
      ],
      "source": [
        "show_topics(V_T[:10], 5, vocab)"
      ]
    },
    {
      "cell_type": "markdown",
      "metadata": {
        "id": "AZwZro1XI2iX"
      },
      "source": [
        "Agora que encontamos um conjunto topicalizado, iremos partir para a analise dos dados por NMF."
      ]
    },
    {
      "cell_type": "markdown",
      "metadata": {
        "id": "38xMXSqdI2iX"
      },
      "source": [
        "Primeiro vamos pegar o número de linhas e de colunas da nossa matriz de entrada, além de definimos o número de tópicos."
      ]
    },
    {
      "cell_type": "code",
      "execution_count": null,
      "metadata": {
        "id": "8ZEMb757I2iX"
      },
      "outputs": [],
      "source": [
        "m, n = vectors.shape\n",
        "num_top = 6 # o número que encontramos no svd mais 1"
      ]
    },
    {
      "cell_type": "markdown",
      "metadata": {
        "id": "sJtCn_Q4I2iX"
      },
      "source": [
        "Agora vamos calcular a NMF usando a sua respectiva função, além fatorá-la na matriz de recursos e a matriz dos coeficientes."
      ]
    },
    {
      "cell_type": "code",
      "execution_count": null,
      "metadata": {
        "id": "_TILe5CxI2iX",
        "outputId": "0d86566a-727a-4429-e014-d22588d7515b"
      },
      "outputs": [
        {
          "name": "stderr",
          "output_type": "stream",
          "text": [
            "C:\\Users\\aliss\\anaconda3\\lib\\site-packages\\sklearn\\decomposition\\_nmf.py:289: FutureWarning: The 'init' value, when 'init=None' and n_components is less than n_samples and n_features, will be changed from 'nndsvd' to 'nndsvda' in 1.1 (renaming of 0.26).\n",
            "  warnings.warn(\n"
          ]
        }
      ],
      "source": [
        "m_nmf = NMF(n_components=num_top, random_state=1)\n",
        "\n",
        "W = m_nmf.fit_transform(np.asarray(vectors))\n",
        "H = m_nmf.components_"
      ]
    },
    {
      "cell_type": "markdown",
      "metadata": {
        "id": "4V_Ec81wI2iY"
      },
      "source": [
        "Vamos apresentar os tópicos."
      ]
    },
    {
      "cell_type": "code",
      "execution_count": null,
      "metadata": {
        "id": "5ZZgriJcI2iY",
        "outputId": "9d43a6fa-68ba-417e-a131-d212496dcec4"
      },
      "outputs": [
        {
          "data": {
            "text/plain": [
              "['gt lt fullquote http font com',\n",
              " 'reuters fullquote stocks target ticker investor',\n",
              " 'ap game monday bush season president',\n",
              " 'new york oil google search microsoft',\n",
              " 'said afp iraq year company world',\n",
              " 'quot microsoft game says deal president']"
            ]
          },
          "execution_count": 49,
          "metadata": {},
          "output_type": "execute_result"
        }
      ],
      "source": [
        "show_topics(H, 6, vocab)"
      ]
    },
    {
      "cell_type": "markdown",
      "metadata": {
        "id": "GpZ28OHiI2iY"
      },
      "source": [
        "Iremos fazer a normalização da contagem por meio do TF-IDF, na qual leva em consideração a frequência com que os termos aparecem no documento. Para isso vamos calcular novamento o NMF, para termos a NMF pura e a normalizada."
      ]
    },
    {
      "cell_type": "code",
      "execution_count": null,
      "metadata": {
        "id": "bWh-buqyI2iY"
      },
      "outputs": [],
      "source": [
        "vectorizer_tfidf = TfidfVectorizer(stop_words='english')\n",
        "vectors_tfidf = vectorizer_tfidf.fit_transform(texto)"
      ]
    },
    {
      "cell_type": "code",
      "execution_count": null,
      "metadata": {
        "id": "4Jq2hj07I2iY",
        "outputId": "9a7f2da5-7a51-4167-b698-a2f121e0b6d9"
      },
      "outputs": [
        {
          "name": "stderr",
          "output_type": "stream",
          "text": [
            "C:\\Users\\aliss\\anaconda3\\lib\\site-packages\\sklearn\\decomposition\\_nmf.py:289: FutureWarning: The 'init' value, when 'init=None' and n_components is less than n_samples and n_features, will be changed from 'nndsvd' to 'nndsvda' in 1.1 (renaming of 0.26).\n",
            "  warnings.warn(\n"
          ]
        }
      ],
      "source": [
        "W1 = m_nmf.fit_transform(vectors_tfidf)\n",
        "H1 = m_nmf.components_"
      ]
    },
    {
      "cell_type": "markdown",
      "metadata": {
        "id": "shJIl3BpI2iY"
      },
      "source": [
        "Iremos apresentar os tópicos para mostrar que temos uma semelhança entre a nmf normalizada e a não normalizada, e com a finalidade de provar que estamos ainda tratando o mesmo conjunto de dado."
      ]
    },
    {
      "cell_type": "code",
      "execution_count": null,
      "metadata": {
        "id": "KVr5GkuVI2iY",
        "outputId": "e7482aa3-555c-43fa-c057-b2fd1f108ac8"
      },
      "outputs": [
        {
          "data": {
            "text/plain": [
              "['iraq said reuters baghdad killed afp',\n",
              " 'gt lt fullquote reuters http href',\n",
              " 'oil prices stocks reuters crude record',\n",
              " 'microsoft new company software corp google',\n",
              " 'ap game season win team sox',\n",
              " 'quot says game nuclear said deal']"
            ]
          },
          "execution_count": 52,
          "metadata": {},
          "output_type": "execute_result"
        }
      ],
      "source": [
        "show_topics(H1, 6, vocab)"
      ]
    },
    {
      "cell_type": "markdown",
      "metadata": {
        "id": "16sYOtFQI2iZ"
      },
      "source": [
        "Iremos plotar o nosso gráfico de normalização IF-IDF, para uma melhor visualização da distribuição do conjunto."
      ]
    },
    {
      "cell_type": "code",
      "execution_count": null,
      "metadata": {
        "id": "i9z4oD-TI2iZ",
        "outputId": "9ebb91e7-6fbe-413f-9517-6881348e1a7d"
      },
      "outputs": [
        {
          "data": {
            "text/plain": [
              "[<matplotlib.lines.Line2D at 0x2381e0809d0>]"
            ]
          },
          "execution_count": 53,
          "metadata": {},
          "output_type": "execute_result"
        },
        {
          "data": {
            "image/png": "[encoded data removed]",
            "text/plain": [
              "<Figure size 432x288 with 1 Axes>"
            ]
          },
          "metadata": {
            "needs_background": "light"
          },
          "output_type": "display_data"
        }
      ],
      "source": [
        "plt.title(\"IF-IDF\")\n",
        "plt.plot(m_nmf.components_[0])"
      ]
    },
    {
      "cell_type": "markdown",
      "metadata": {
        "id": "F-HuZ23JI2iZ"
      },
      "source": [
        "Para finalizar, iremos apresentar o erro aceitavel para essa normalização."
      ]
    },
    {
      "cell_type": "code",
      "execution_count": null,
      "metadata": {
        "id": "Q7-NCw38I2iZ",
        "outputId": "d5696d65-2b39-4012-ff2d-09586f70834a"
      },
      "outputs": [
        {
          "data": {
            "text/plain": [
              "86.12967474083398"
            ]
          },
          "execution_count": 54,
          "metadata": {},
          "output_type": "execute_result"
        }
      ],
      "source": [
        "m_nmf.reconstruction_err_"
      ]
    },
    {
      "cell_type": "markdown",
      "metadata": {
        "id": "UiOriZoBI2iZ"
      },
      "source": [
        "Bem, finalizamos a nossa analise, vale salientar que foram simples demonstrções da utilização do SVD e NMF para a realização da modelagem de dados. Porém, com essas demostração podemos obsevar que com o mesmo processo conseguimos analisar datasets diferentes e que consigamos extrair informações topográfica da modela. Dessa forma, demonstrando assim a super utilidade desses métodos em conjuntos que envolvam classificação de tópicos."
      ]
    }
  ],
  "metadata": {
    "kernelspec": {
      "display_name": "Python 3 (ipykernel)",
      "language": "python",
      "name": "python3"
    },
    "language_info": {
      "codemirror_mode": {
        "name": "ipython",
        "version": 3
      },
      "file_extension": ".py",
      "mimetype": "text/x-python",
      "name": "python",
      "nbconvert_exporter": "python",
      "pygments_lexer": "ipython3",
      "version": "3.9.12"
    },
    "colab": {
      "provenance": [],
      "include_colab_link": true
    }
  },
  "nbformat": 4,
  "nbformat_minor": 0
}