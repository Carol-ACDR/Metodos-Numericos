{
  "nbformat": 4,
  "nbformat_minor": 0,
  "metadata": {
    "colab": {
      "provenance": [],
      "include_colab_link": true
    },
    "kernelspec": {
      "name": "python3",
      "display_name": "Python 3"
    },
    "language_info": {
      "name": "python"
    }
  },
  "cells": [
    {
      "cell_type": "markdown",
      "metadata": {
        "id": "view-in-github",
        "colab_type": "text"
      },
      "source": [
        "<a href=\"https://colab.research.google.com/github/Carol-ACDR/Metodos-Numericos/blob/main/Lista_4.ipynb\" target=\"_parent\"><img src=\"https://colab.research.google.com/assets/colab-badge.svg\" alt=\"Open In Colab\"/></a>"
      ]
    },
    {
      "cell_type": "markdown",
      "source": [
        "\n",
        "INSTITUTO FEDERAL DE EDUCAÇÃO, CIÊNCIA E TECNOLOGIA DA  PARAÍBA – IFPB CAMPUS CAMPINA GRANDE\n",
        "\n",
        "\n",
        "ENGENHARIA DE COMPUTAÇÃO\n",
        "\n",
        "\n",
        "DISCIPLINA: Métodos Númericos\n",
        "\n",
        "\n",
        "PROFESSOR: PAULO RIBEIRO LINS JUNIOR\n",
        "  \n",
        "  \n",
        "  ALUNO(A): Ana Carolina Dutra Ramos\n",
        "\n"
      ],
      "metadata": {
        "id": "SftnbM0hOb_i"
      }
    },
    {
      "cell_type": "markdown",
      "source": [
        "Questão 1"
      ],
      "metadata": {
        "id": "Go0Ds8rGPUK0"
      }
    },
    {
      "cell_type": "code",
      "execution_count": null,
      "metadata": {
        "id": "NFCs0ckFZz48"
      },
      "outputs": [],
      "source": [
        "import numpy as np\n",
        "import pandas as pd\n",
        "import matplotlib.pyplot as plt"
      ]
    },
    {
      "cell_type": "code",
      "source": [
        "def Acharbissecao(f, a, b, Lim=1e-10):\n",
        "    Erro, x_ant = 1, a\n",
        "    while(Erro > Lim):\n",
        "        inf = np.sign(f(a))\n",
        "        sup = np.sign(f(b))\n",
        "        if inf*sup != -1:\n",
        "            print(\"Não há raiz nesse intervalo\")\n",
        "            return\n",
        "        else:\n",
        "            x = (a+b)/2\n",
        "            if f(x) == 0:\n",
        "                print('A raíz é ', x)\n",
        "                return x\n",
        "            elif inf*np.sign(f(x)) == -1:\n",
        "              b = x\n",
        "            else:\n",
        "              a = x\n",
        "        Erro = np.abs((x - x_ant)/x)\n",
        "        x_ant = x\n",
        "    return x"
      ],
      "metadata": {
        "id": "IVFnOcF1PJGH"
      },
      "execution_count": null,
      "outputs": []
    },
    {
      "cell_type": "code",
      "source": [
        "f = lambda x: 2 - np.exp(x)\n",
        "a=0\n",
        "b=1\n",
        "np.sign(f(a))*np.sign(f(b))\n"
      ],
      "metadata": {
        "colab": {
          "base_uri": "https://localhost:8080/"
        },
        "id": "EXUUOvu8eU4F",
        "outputId": "d421399a-895b-49e2-fa78-7d6580cf64ca"
      },
      "execution_count": null,
      "outputs": [
        {
          "output_type": "execute_result",
          "data": {
            "text/plain": [
              "-1.0"
            ]
          },
          "metadata": {},
          "execution_count": 94
        }
      ]
    },
    {
      "cell_type": "code",
      "source": [
        "Acharbissecao(f,0,1)"
      ],
      "metadata": {
        "colab": {
          "base_uri": "https://localhost:8080/"
        },
        "id": "PJdoGLoNfdsG",
        "outputId": "874b8861-7f24-42f3-cd64-e2e62fa22208"
      },
      "execution_count": null,
      "outputs": [
        {
          "output_type": "execute_result",
          "data": {
            "text/plain": [
              "0.6931471805437468"
            ]
          },
          "metadata": {},
          "execution_count": 95
        }
      ]
    },
    {
      "cell_type": "code",
      "source": [
        "f = lambda x: 5 - x**5\n",
        "a=0\n",
        "b=1\n",
        "np.sign(f(a))*np.sign(f(b))\n"
      ],
      "metadata": {
        "colab": {
          "base_uri": "https://localhost:8080/"
        },
        "outputId": "e20a01cf-5985-48cf-db61-e83b0e894c63",
        "id": "m49xAJoFgLAU"
      },
      "execution_count": null,
      "outputs": [
        {
          "output_type": "execute_result",
          "data": {
            "text/plain": [
              "1"
            ]
          },
          "metadata": {},
          "execution_count": 96
        }
      ]
    },
    {
      "cell_type": "code",
      "source": [
        "Acharbissecao(f,0,1)"
      ],
      "metadata": {
        "colab": {
          "base_uri": "https://localhost:8080/"
        },
        "id": "7F7M0IInge8E",
        "outputId": "37472d55-d1bd-4dd4-9f33-87d6646522cd"
      },
      "execution_count": null,
      "outputs": [
        {
          "output_type": "stream",
          "name": "stdout",
          "text": [
            "Não há raiz nesse intervalo\n"
          ]
        }
      ]
    },
    {
      "cell_type": "code",
      "source": [
        "Acharbissecao(f,0,5)"
      ],
      "metadata": {
        "colab": {
          "base_uri": "https://localhost:8080/"
        },
        "id": "7OQWd-2RgkDk",
        "outputId": "f6b57b78-bb05-4e99-e4ef-b06cdcd09c78"
      },
      "execution_count": null,
      "outputs": [
        {
          "output_type": "execute_result",
          "data": {
            "text/plain": [
              "1.3797296614939114"
            ]
          },
          "metadata": {},
          "execution_count": 98
        }
      ]
    },
    {
      "cell_type": "markdown",
      "source": [
        "Questão 2"
      ],
      "metadata": {
        "id": "0HlyO_U7Z8Yf"
      }
    },
    {
      "cell_type": "markdown",
      "source": [
        "a)"
      ],
      "metadata": {
        "id": "ozfedIqLlB4j"
      }
    },
    {
      "cell_type": "code",
      "source": [
        "x = np.linspace(-5, 10, 50)\n",
        "y = -0.5*x**2 + 2.5*x + 4.5\n",
        "fig = plt.figure()\n",
        "ax = fig.add_subplot(1, 1, 1)\n",
        "ax.scatter([6.405124837953327, -1.405124837953327], [0, 0], s=100, color='red', alpha=0.5)\n",
        "plt.plot(x, y)\n"
      ],
      "metadata": {
        "colab": {
          "base_uri": "https://localhost:8080/",
          "height": 282
        },
        "id": "aawL0zc5iPGV",
        "outputId": "8f7f01ee-ad50-4e63-c918-7936d77d11f2"
      },
      "execution_count": null,
      "outputs": [
        {
          "output_type": "execute_result",
          "data": {
            "text/plain": [
              "[<matplotlib.lines.Line2D at 0x7f1ffda11d50>]"
            ]
          },
          "metadata": {},
          "execution_count": 8
        },
        {
          "output_type": "display_data",
          "data": {
            "text/plain": [
              "<Figure size 432x288 with 1 Axes>"
            ],
            "image/png": "[encoded data removed]"
          },
          "metadata": {
            "needs_background": "light"
          }
        }
      ]
    },
    {
      "cell_type": "markdown",
      "source": [
        "b)"
      ],
      "metadata": {
        "id": "_J7uw8q9owlq"
      }
    },
    {
      "cell_type": "code",
      "source": [
        "r = (2.5**2) - (4*(-0.5)*4.5)\n",
        "x1 = (-2.5-np.sqrt(r))/(2*(-0.5))\n",
        "x2 = (-2.5+np.sqrt(r))/(2*(-0.5))\n",
        "print('x1 = {0}, x2 = {1}'.format(x1,x2))"
      ],
      "metadata": {
        "colab": {
          "base_uri": "https://localhost:8080/"
        },
        "id": "eYCKKGQZox_0",
        "outputId": "de23d6f2-af29-4a62-c409-70e9a89e785d"
      },
      "execution_count": null,
      "outputs": [
        {
          "output_type": "stream",
          "name": "stdout",
          "text": [
            "x1 = 6.405124837953327, x2 = -1.405124837953327\n"
          ]
        }
      ]
    },
    {
      "cell_type": "markdown",
      "source": [
        "c)"
      ],
      "metadata": {
        "id": "pELGzTKLvVdm"
      }
    },
    {
      "cell_type": "code",
      "source": [
        "f = lambda x: -0.5*x**2 + 2.5*x + 4.5\n",
        "a,b = 5,10\n",
        "Errolocal,Errofunc, x_ant = 1,1, a\n",
        "for i in range(3):\n",
        "        inf = np.sign(f(a))\n",
        "        sup = np.sign(f(b))\n",
        "        if inf*sup != -1:\n",
        "            print(\"Não há raiz nesse intervalo\")\n",
        "            break\n",
        "        else:\n",
        "            x = (a+b)/2\n",
        "            if f(x) == 0:\n",
        "                print('A raíz é ', x)\n",
        "                break\n",
        "            elif inf*np.sign(f(x)) == -1:\n",
        "              b = x\n",
        "            else:\n",
        "              a = x\n",
        "        Errolocal = np.abs((x - x_ant)/x)\n",
        "        Errofunc = ((np.abs(x - x1))/x1)\n",
        "        print('iteração = {0}, erro relativo com a interior = {1}, erro relativo dessa interação com a formula quadratica = {2}'.format(i+1,Errolocal,Errofunc))\n",
        "        x_ant = x"
      ],
      "metadata": {
        "colab": {
          "base_uri": "https://localhost:8080/"
        },
        "id": "JWhBjZkOvW83",
        "outputId": "abc3590a-2794-42cb-d07c-71d7bb373ab7"
      },
      "execution_count": null,
      "outputs": [
        {
          "output_type": "stream",
          "name": "stdout",
          "text": [
            "iteração = 1, erro relativo com a interior = 0.3333333333333333, erro relativo dessa interação com a formula quadratica = 0.17093736496110604\n",
            "iteração = 2, erro relativo com a interior = 0.2, erro relativo dessa interação com a formula quadratica = 0.024218862532411636\n",
            "iteração = 3, erro relativo com a interior = 0.09090909090909091, erro relativo dessa interação com a formula quadratica = 0.0733592512143472\n"
          ]
        }
      ]
    },
    {
      "cell_type": "markdown",
      "source": [
        "Questão 3."
      ],
      "metadata": {
        "id": "9GdJ3K9g8vXu"
      }
    },
    {
      "cell_type": "code",
      "source": [
        "x = np.linspace(0.5, 1, 10)\n",
        "y = x**3 - np.sin(x)\n",
        "fig = plt.figure()\n",
        "ax = fig.add_subplot(1, 1, 1)\n",
        "ax.scatter([0.921875], [0], s=100, color='red', alpha=0.5)\n",
        "plt.plot(x, y)\n"
      ],
      "metadata": {
        "colab": {
          "base_uri": "https://localhost:8080/",
          "height": 282
        },
        "id": "qyoGnnOp-Byy",
        "outputId": "9336c1f6-5a25-4e92-c394-4f039263978d"
      },
      "execution_count": null,
      "outputs": [
        {
          "output_type": "execute_result",
          "data": {
            "text/plain": [
              "[<matplotlib.lines.Line2D at 0x7f1ffd991350>]"
            ]
          },
          "metadata": {},
          "execution_count": 9
        },
        {
          "output_type": "display_data",
          "data": {
            "text/plain": [
              "<Figure size 432x288 with 1 Axes>"
            ],
            "image/png": "[encoded data removed]"
          },
          "metadata": {
            "needs_background": "light"
          }
        }
      ]
    },
    {
      "cell_type": "code",
      "source": [
        "f = lambda x: x**3 - np.sin(x)\n",
        "Acharbissecao(f, 0.5, 1, Lim= 0.019999999)"
      ],
      "metadata": {
        "colab": {
          "base_uri": "https://localhost:8080/"
        },
        "id": "R9xJFG9E8yL8",
        "outputId": "7efbaa2d-da24-48aa-de5a-7c8210da8a2a"
      },
      "execution_count": null,
      "outputs": [
        {
          "output_type": "execute_result",
          "data": {
            "text/plain": [
              "0.921875"
            ]
          },
          "metadata": {},
          "execution_count": 103
        }
      ]
    },
    {
      "cell_type": "markdown",
      "source": [
        "Questão 4"
      ],
      "metadata": {
        "id": "KCAQoDIj00I3"
      }
    },
    {
      "cell_type": "code",
      "source": [
        "f = lambda x: -12*x**5-6*x**3+10 #usando derivada\n",
        "Acharbissecao(f, 0, 1, Lim= 0.05)"
      ],
      "metadata": {
        "colab": {
          "base_uri": "https://localhost:8080/"
        },
        "id": "j7C17yxSFpsc",
        "outputId": "69c133c3-9c6c-4f45-dfbb-036239d2fe8c"
      },
      "execution_count": null,
      "outputs": [
        {
          "output_type": "execute_result",
          "data": {
            "text/plain": [
              "0.84375"
            ]
          },
          "metadata": {},
          "execution_count": 104
        }
      ]
    },
    {
      "cell_type": "markdown",
      "source": [
        "Questão 5"
      ],
      "metadata": {
        "id": "efPKPPF3GL55"
      }
    },
    {
      "cell_type": "code",
      "source": [
        "def  interplinear(f, a, b, Lim=1e-10):\n",
        "    Erro, x_ant = 1, a\n",
        "    while(Erro > Lim):\n",
        "        inf = np.sign(f(a))\n",
        "        sup = np.sign(f(b))\n",
        "        if inf*sup != -1:\n",
        "            print(\"Não há raiz nesse intervalo\")\n",
        "            return\n",
        "        else:\n",
        "            x = b - ((f(b)*(a-b))/(f(a)-f(b)))\n",
        "            if f(x) == 0:\n",
        "                print('A raíz é ', x)\n",
        "                return x\n",
        "            elif inf*np.sign(f(x)) == -1:\n",
        "              b = x\n",
        "            else:\n",
        "              a = x\n",
        "        Erro = np.abs((x - x_ant)/x)\n",
        "        x_ant = x\n",
        "    return x"
      ],
      "metadata": {
        "id": "pOEoBW76GOnh"
      },
      "execution_count": null,
      "outputs": []
    },
    {
      "cell_type": "code",
      "source": [
        "f1 = lambda x: 2 - np.exp(x)\n",
        "print(Acharbissecao(f1,0,1))\n",
        "print(interplinear(f1,0,1))"
      ],
      "metadata": {
        "colab": {
          "base_uri": "https://localhost:8080/"
        },
        "id": "JU7r8MAmG_7K",
        "outputId": "11e83d2a-f71f-45f4-d1f2-7bcb8b69d4a3"
      },
      "execution_count": null,
      "outputs": [
        {
          "output_type": "stream",
          "name": "stdout",
          "text": [
            "0.6931471805437468\n",
            "0.6931471805496638\n"
          ]
        }
      ]
    },
    {
      "cell_type": "code",
      "source": [
        "x = np.linspace(0, 1)\n",
        "y = 2 - np.exp(x)\n",
        "fig = plt.figure()\n",
        "ax = fig.add_subplot(1, 1, 1)\n",
        "ax.scatter([0.6931471805437468], [0], s=100, color='red', alpha=0.5)\n",
        "plt.plot(x, y)"
      ],
      "metadata": {
        "colab": {
          "base_uri": "https://localhost:8080/",
          "height": 282
        },
        "id": "aHPH5NDWJ5wq",
        "outputId": "7af9c4f5-af05-484c-f51a-62b4e115d3d9"
      },
      "execution_count": null,
      "outputs": [
        {
          "output_type": "execute_result",
          "data": {
            "text/plain": [
              "[<matplotlib.lines.Line2D at 0x7f1ffdbcc810>]"
            ]
          },
          "metadata": {},
          "execution_count": 10
        },
        {
          "output_type": "display_data",
          "data": {
            "text/plain": [
              "<Figure size 432x288 with 1 Axes>"
            ],
            "image/png": "[encoded data removed]"
          },
          "metadata": {
            "needs_background": "light"
          }
        }
      ]
    },
    {
      "cell_type": "code",
      "source": [
        "x = np.linspace(0, 1)\n",
        "y = 2 - np.exp(x)\n",
        "fig = plt.figure()\n",
        "ax = fig.add_subplot(1, 1, 1)\n",
        "ax.scatter([0.6931471805496638], [0], s=100, color='red', alpha=0.5)\n",
        "plt.plot(x, y)"
      ],
      "metadata": {
        "colab": {
          "base_uri": "https://localhost:8080/",
          "height": 282
        },
        "id": "udU-5xHxKMaL",
        "outputId": "b0d393a4-b0d2-4f02-95a4-a791642a06b0"
      },
      "execution_count": null,
      "outputs": [
        {
          "output_type": "execute_result",
          "data": {
            "text/plain": [
              "[<matplotlib.lines.Line2D at 0x7f1ffd9b3a50>]"
            ]
          },
          "metadata": {},
          "execution_count": 11
        },
        {
          "output_type": "display_data",
          "data": {
            "text/plain": [
              "<Figure size 432x288 with 1 Axes>"
            ],
            "image/png": "[encoded data removed]"
          },
          "metadata": {
            "needs_background": "light"
          }
        }
      ]
    }
  ]
}