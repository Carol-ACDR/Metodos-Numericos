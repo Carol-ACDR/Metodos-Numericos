{
  "nbformat": 4,
  "nbformat_minor": 0,
  "metadata": {
    "colab": {
      "provenance": [],
      "authorship_tag": "ABX9TyObXMw64jI3gvWivhAIwF7c",
      "include_colab_link": true
    },
    "kernelspec": {
      "name": "python3",
      "display_name": "Python 3"
    },
    "language_info": {
      "name": "python"
    }
  },
  "cells": [
    {
      "cell_type": "markdown",
      "metadata": {
        "id": "view-in-github",
        "colab_type": "text"
      },
      "source": [
        "<a href=\"https://colab.research.google.com/github/Carol-ACDR/Metodos-Numericos/blob/main/Lista_5.ipynb\" target=\"_parent\"><img src=\"https://colab.research.google.com/assets/colab-badge.svg\" alt=\"Open In Colab\"/></a>"
      ]
    },
    {
      "cell_type": "markdown",
      "source": [
        "\n",
        "INSTITUTO FEDERAL DE EDUCAÇÃO, CIÊNCIA E TECNOLOGIA DA  PARAÍBA – IFPB CAMPUS CAMPINA GRANDE\n",
        "\n",
        "\n",
        "ENGENHARIA DE COMPUTAÇÃO\n",
        "\n",
        "\n",
        "DISCIPLINA: Métodos Númericos\n",
        "\n",
        "\n",
        "PROFESSOR: PAULO RIBEIRO LINS JUNIOR\n",
        "  \n",
        "  \n",
        "  ALUNO(A): Ana Carolina Dutra Ramos\n",
        "\n"
      ],
      "metadata": {
        "id": "SftnbM0hOb_i"
      }
    },
    {
      "cell_type": "code",
      "source": [
        "import numpy as np\n",
        "import pandas as pd\n",
        "import matplotlib.pyplot as plt"
      ],
      "metadata": {
        "id": "hMFsFoYNgYot"
      },
      "execution_count": null,
      "outputs": []
    },
    {
      "cell_type": "markdown",
      "source": [
        "Questão 1."
      ],
      "metadata": {
        "id": "UPxEl-5C3njh"
      }
    },
    {
      "cell_type": "code",
      "source": [
        "def funcpfixo(g, a, Lim=1e-10, Max = -1):\n",
        "    Erro, x_ant = 1, a\n",
        "    if(Max == -1):\n",
        "     while(Erro > Lim):\n",
        "            x = g(x_ant)\n",
        "            Erro = np.abs((x - x_ant)/x)\n",
        "            x_ant = x\n",
        "     return x_ant\n",
        "    else:\n",
        "      cont =0\n",
        "      while (cont!=Max):\n",
        "            x = g(x_ant)\n",
        "            x_ant = x\n",
        "            Max -=1\n",
        "      return x_ant\n"
      ],
      "metadata": {
        "id": "IVFnOcF1PJGH"
      },
      "execution_count": null,
      "outputs": []
    },
    {
      "cell_type": "code",
      "source": [
        "def g(x): return np.exp(-x)\n",
        "funcpfixo(g, 0)\n"
      ],
      "metadata": {
        "colab": {
          "base_uri": "https://localhost:8080/"
        },
        "id": "NwCa2Ir1wCWx",
        "outputId": "b52221c0-a912-44d7-82c2-c77ae4c63da7"
      },
      "execution_count": null,
      "outputs": [
        {
          "output_type": "execute_result",
          "data": {
            "text/plain": [
              "0.567143290426651"
            ]
          },
          "metadata": {},
          "execution_count": 8
        }
      ]
    },
    {
      "cell_type": "code",
      "source": [
        "def Newton_Raphson(g, g2, a, Lim=1e-10,Max = -1):\n",
        "    Erro, x_ant = 1, a\n",
        "    if(Max == -1):\n",
        "     while(Erro > Lim):\n",
        "            x = x_ant - (g(x)/g2(x))\n",
        "            Erro = np.abs((x - x_ant)/x)\n",
        "            x_ant = x\n",
        "     return x_ant\n",
        "    else:\n",
        "      cont =0\n",
        "      while (cont!=Max):\n",
        "            x = x_ant - (g(x)/g2(x))\n",
        "            Erro = np.abs((x - x_ant)/x)\n",
        "            x_ant = x\n",
        "      return x_ant"
      ],
      "metadata": {
        "id": "pyh4kOnnzABJ"
      },
      "execution_count": null,
      "outputs": []
    },
    {
      "cell_type": "code",
      "source": [
        "def Metodo_Secante(g, a, a_ant, Lim=1e-10):\n",
        "    Erro, x_ant,x_ant_ant = 1, a, a_ant\n",
        "    while(Erro > Lim):\n",
        "            x = x_ant - ((g(x)*(x_ant_ant -x_ant))/(g(x_ant_ant)-g(x_ant)))\n",
        "            x_ant_ant = x_ant\n",
        "            Erro = np.abs((x - x_ant)/x)\n",
        "            x_ant = x\n",
        "    return x_ant"
      ],
      "metadata": {
        "id": "BiqGRQx70z9T"
      },
      "execution_count": null,
      "outputs": []
    },
    {
      "cell_type": "markdown",
      "source": [
        "Questão 2"
      ],
      "metadata": {
        "id": "spIXI6gY3rMp"
      }
    },
    {
      "cell_type": "code",
      "source": [
        "def g(x): return 2*np.sin(np.sqrt(x))\n",
        "funcpfixo(g, 0.5,Lim =0.00001)"
      ],
      "metadata": {
        "colab": {
          "base_uri": "https://localhost:8080/"
        },
        "id": "j6nXYTbL21Tb",
        "outputId": "264589ce-db24-4e68-f093-282a85be0d67"
      },
      "execution_count": null,
      "outputs": [
        {
          "output_type": "execute_result",
          "data": {
            "text/plain": [
              "1.9723804860817313"
            ]
          },
          "metadata": {},
          "execution_count": 35
        }
      ]
    },
    {
      "cell_type": "markdown",
      "source": [
        "Questão 3\n"
      ],
      "metadata": {
        "id": "jWaQYN7446Lx"
      }
    },
    {
      "cell_type": "code",
      "source": [
        "def f1(x): return (-2*(x**3)+11.7*(x**2)+5)/17.7\n",
        "def f2(x): return x\n",
        "x = np.linspace(-10,10,100)\n",
        "plt.plot(x,f1(x), linewidth=2, label='$x^3$')\n",
        "plt.plot(x,f2(x), linewidth=2, label='$x$')\n",
        "plt.plot([6], [f1(6)], color='r',marker='o')\n",
        "plt.grid()\n",
        "plt.legend()\n"
      ],
      "metadata": {
        "colab": {
          "base_uri": "https://localhost:8080/",
          "height": 282
        },
        "id": "uQIhGaqf4swb",
        "outputId": "30922539-cc70-4fc7-b6ff-197bd61855fb"
      },
      "execution_count": null,
      "outputs": [
        {
          "output_type": "execute_result",
          "data": {
            "text/plain": [
              "<matplotlib.legend.Legend at 0x7fd0a1c14dd0>"
            ]
          },
          "metadata": {},
          "execution_count": 48
        },
        {
          "output_type": "display_data",
          "data": {
            "text/plain": [
              "<Figure size 432x288 with 1 Axes>"
            ],
            "image/png": "[encoded data removed]"
          },
          "metadata": {
            "needs_background": "light"
          }
        }
      ]
    },
    {
      "cell_type": "code",
      "source": [
        "funcpfixo(f1, 3,Max= 3)"
      ],
      "metadata": {
        "colab": {
          "base_uri": "https://localhost:8080/"
        },
        "id": "yFb2hPT97jhD",
        "outputId": "e3e528b9-fca8-4c54-acd6-b9a4d995338c"
      },
      "execution_count": null,
      "outputs": [
        {
          "output_type": "execute_result",
          "data": {
            "text/plain": [
              "3.442543246990202"
            ]
          },
          "metadata": {},
          "execution_count": 49
        }
      ]
    }
  ]
}