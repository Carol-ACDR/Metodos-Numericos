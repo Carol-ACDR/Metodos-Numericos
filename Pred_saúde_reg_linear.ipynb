{
  "cells": [
    {
      "cell_type": "markdown",
      "metadata": {
        "id": "view-in-github",
        "colab_type": "text"
      },
      "source": [
        "<a href=\"https://colab.research.google.com/github/Carol-ACDR/Metodos-Numericos/blob/main/Pred_sa%C3%BAde_reg_linear.ipynb\" target=\"_parent\"><img src=\"https://colab.research.google.com/assets/colab-badge.svg\" alt=\"Open In Colab\"/></a>"
      ]
    },
    {
      "cell_type": "markdown",
      "metadata": {
        "id": "zESanzQU2o6W"
      },
      "source": [
        "# <center>__MÉTODOS NUMÉRICOS__</center>\n",
        "## <center>__PROJETO DA UNIDADE 2__</center>\n",
        "\n",
        "## <center>__Predição de dados de saúde usando regressão linear__</center>\n",
        "\n",
        "#### <center>__Dezembro de 2022__</center>"
      ]
    },
    {
      "cell_type": "markdown",
      "metadata": {
        "id": "TuBjf3Xb2o6b"
      },
      "source": [
        "<div class=\"alert alert-block alert-info\">\n",
        "1. INTRODUÇÃO\n",
        "</div>"
      ]
    },
    {
      "cell_type": "markdown",
      "metadata": {
        "id": "GEMNnfvu2o6c"
      },
      "source": [
        "Este relatório visa por apresentar o tema: Predição de dados de saúde usando regressão linear. Para isso, serão demonstradas diversas formas de montagem da função de regressão linear disponiveis utilizando-se das bibliotecas basicas de python (math,pandas, scipy e numpy). Os metodos debruçados incluem:\n",
        "\n",
        "\n",
        "\n",
        "**Scipy Sparse Least Squares** =\n",
        "\n",
        "Encontra a solução de mínimos quadrados para um sistema de equações grande, esparso e linear.\n",
        "\n",
        "A função resolve Ax = b ou min ||Ax - b||^2 ou min ||Ax - b||^2 + d^2 ||x - x0||^2.\n",
        "\n",
        "A matriz A pode ser quadrada ou retangular (sobredeterminada ou subdeterminada) e pode ter qualquer classificação.\n",
        "\n",
        "\n",
        "\n",
        "\n",
        "**Normal equation: \"Naive Solution\"** =\n",
        "\n",
        " Uma solução mais basica e direta, utilizando equações normais como guia.\n",
        "\n",
        "\n",
        "**Normal equation: Cholesky** =\n",
        "\n",
        "é uma decomposição de uma matriz positiva-definida Hermitiana no produto de uma matriz triangular inferior e sua transposta conjugada, que é útil para soluções numéricas eficientes.\n",
        "\n",
        "**QR Factorization** =\n",
        "\n",
        "é uma decomposição de uma matriz A em um produto A = QR de uma matriz ortogonal Q e uma matriz triangular superior R. A decomposição QR é frequentemente usada para resolver o problema de mínimos quadrados lineares e é a base para um algoritmo de autovalor específico, o algoritmo QR\n",
        "\n",
        "**SVD** =\n",
        "\n",
        "a fatoração de uma matriz real ou complexa, com diversas aplicações importantes em processamento de sinais e estatística.\n",
        "\n",
        "\n",
        "Cada um com suas peculiaridades que serão explicadas mais a diante.\n"
      ]
    },
    {
      "cell_type": "markdown",
      "metadata": {
        "id": "Rt_cwLqT2o6d"
      },
      "source": [
        "<div class=\"alert alert-block alert-info\">\n",
        "2. DESCRIÇÃO DO PROBLEMA\n",
        "</div>"
      ]
    },
    {
      "cell_type": "markdown",
      "metadata": {
        "id": "cP02RUOO2o6d"
      },
      "source": [
        "\n",
        "Independente da situação, ser capaz de realizar uma previsão com uma propabilidade de acerto elevada sobre alguma situação é definitivamente útil no dia a dia. Uma previsão correta pode ser capaz de salvar tempo, dinheiro e até mesmo a vida de varias pessoas. No entanto, para realizar tal ação de forma precisa, muitas vezes se faz necessario a analise de uma imensa quantidade de dados. Nessa linha de pensamento, torna-se mais comodo buscar uma forma segura que possa prever dados novos ao inves de ficar sempre recalculando paramentros, e como a função é feita para espelhar matematicamente nossa realidade, é interessante utilizar-se dela.\n",
        "\n",
        "Então começa a busca por uma função linear que esteja o menos distante possivel de todos os pontos de data, de forma que essa mesma função seja capaz de prever com um nivel aceitavel de distancia o proximo dado a ser gerado.\n"
      ]
    },
    {
      "cell_type": "markdown",
      "metadata": {
        "id": "-jgj5siv2o6e"
      },
      "source": [
        "<div class=\"alert alert-block alert-info\">\n",
        "3. MÉTODOS APLICADOS À SOLUÇÃO\n",
        "</div>"
      ]
    },
    {
      "cell_type": "markdown",
      "metadata": {
        "id": "FDzkUvvX2o6e"
      },
      "source": [
        "Nessa seção, você descreverá que métodos numéricos usará para solucionar o problema acima, explicando como esses métodos funcionam, para que tipos de problemas eles são úteis e, principalmente, porque são úteis para o problema descrito na seção anterior\n",
        "\n",
        "**Scipy Sparse Least Squares** =\n",
        "\n",
        "Somando a definição com o que diz na propria fonte do código: \" Se A for simétrico, LSQR não deve ser usado! As alternativas são o método do gradiente conjugado simétrico (cg) e/ou SYMMLQ. SYMMLQ é uma implementação de cg simétrico que se aplica a qualquer A simétrico e convergirá mais rapidamente que LSQR. Se A for positivo definido, existem outras implementações de cg simétrico que requerem um pouco menos de trabalho por iteração do que SYMMLQ (mas terão o mesmo número de iterações).\"\n",
        "\n",
        "Por tanto, deve ser usado em sistemas de equações grandes, esparsas e lineares. Considerando que estamos a procura de uma equação linear, essa função pode ajudar nessa busca.\n",
        "\n",
        "Vale observar que é possivel mudar o modo LAPACK(Algebra Linear Package) em que a função opera, podendo ser:\n",
        "\n",
        "gelsd: que usa SVD e um método de divisão e conquista\n",
        "\n",
        "gelsy: que usa fatoração QR\n",
        "\n",
        "gelss: que usa SVD\n",
        "\n",
        "O primeiro é o default, o segundo roda melhor em alguns casos e o terceiro é o geralmente usado.\n",
        "\n",
        "\n",
        "**Normal equation: \"Naive Solution\"** =\n",
        "\n",
        "Trata-se de procurar um vetor \"b\" que esteja mais proximo da imagem de A,\n",
        "sendo assim a projeção de b sobre A.\n",
        "\n",
        " Como b−Ax deve ser perpendicular a imagem de A, vemos que\n",
        "\n",
        "(A^T)*(b−Ax)=0\n",
        "\n",
        "então tem-se:\n",
        "\n",
        "x= (A^T)b*((A^T)A)^−1\n",
        "\n",
        "\n",
        "**Normal equation: Cholesky** =\n",
        "\n",
        "Utilizada quando uma matriz é \"full rank\". Pois pode-se constatar que a pseudo-inversa (A^T)((A^T)A)^-1 é uma matriz quadrada, simetrica positiva definida. E portanto pode-se utilizar da fatoração de Cholesky, que encontra a matriz L triangular .\n",
        "\n",
        "A = LL*\n",
        "\n",
        "onde L é uma matriz triangular inferior com entradas diagonais positivas e reais, e L* denota a matriz conjugada transposta de L.\n",
        "\n",
        "E, utilizando a função normal e resolvendo a matriz triangular, podemos achar a resolução da equação.\n",
        "\n",
        "\n",
        "**QR Factorization** =\n",
        "\n",
        "Há varios jeitos de calcular Q e R, utilizando \"Reflexão de Householder\" (uma transformação linear que permite que um vetor seja refletido através de um plano ou hiperplano): Cria-se uma matriz triangular superior com R . De forma que ocorra uma reflexão vetorial onde todas as coordenadas, exceto uma, desaparessem. A matriz Q é construída como uma sequência de multiplicações de matrizes que eliminam cada coordenada sucessivamente, até o rank da matriz A.\n",
        "\n",
        "\n",
        "**SVD** =\n",
        "\n",
        "Parte da ideia de que qualquer matriz A pode ser decomposta em três matrizes U , Σ e V tais que A=UΣV.\n",
        "\n",
        "Onde A é a matriz m x n real que se deseja decompor, U é uma matriz m x m, Σ é uma matriz diagonal m x n e V é uma matriz unitária conjugada nxn.\n",
        "\n",
        "Os valores diagonais da Σ são os valores singulares da matriz A original. As colunas da matriz U são os vetores singulares à esquerda de A e as colunas de V os vetores singulares à direita de A.\n",
        "\n",
        "Vale ressaltar que o SVD é calculado por meio de métodos numéricos iterativos."
      ]
    },
    {
      "cell_type": "markdown",
      "metadata": {
        "id": "Ou4Kvsh32o6f"
      },
      "source": [
        "<div class=\"alert alert-block alert-info\">\n",
        "4. IMPLEMENTAÇÃO\n",
        "</div>"
      ]
    },
    {
      "cell_type": "markdown",
      "metadata": {
        "id": "RiHQTUJg2o6f"
      },
      "source": [
        "Aqui você irá  mostrar sua implementação para o problema considerado, explicando o que foi feito em cada passo e cada saída de cada trecho de código, sempre relacionando com a descrição do método mostrada acima."
      ]
    },
    {
      "cell_type": "code",
      "source": [
        "\n",
        "import math, scipy, numpy as np\n",
        "from scipy import linalg"
      ],
      "metadata": {
        "id": "YOHX6_hW_oq2"
      },
      "execution_count": null,
      "outputs": []
    },
    {
      "cell_type": "code",
      "source": [
        "# Primeiro para a função Scipy Sparse Least Squares, lembrando que não pode ser usada com matrizes simetricas e não é a mais recomendada para matrizes positivas definidas.\n",
        "def SSLS(A,b,tipo = \"sd\"): #Passando as duas matrizes, além da especificação do tipo\n",
        "  if (tipo == \"sd\"):\n",
        "    return linalg.lstsq(A, b, lapack_driver=\"gelsd\") #Já irá retornar a solução final da equação, utilizando o método SVD e  divisão e conquista, como já citado\n",
        "  elif(tipo == \"sy\"):\n",
        "    return linalg.lstsq(A, b, lapack_driver=\"gelsy\") #Já irá retornar a solução final da equação,utilizando o método fatoração QR\n",
        "  elif(tipo == \"ss\"):\n",
        "    return linalg.lstsq(A, b, lapack_driver=\"gelss\") #Já irá retornar a solução final da equação, utilizando o método SVD\n"
      ],
      "metadata": {
        "id": "lbkyE91NBb5H"
      },
      "execution_count": null,
      "outputs": []
    },
    {
      "cell_type": "code",
      "source": [
        "# Seguindo para Naive Solution\n",
        "def Naiv(A,b):#Passando as duas matrizes\n",
        "   return np.linalg.inv(A.T @ A) @ A.T @ b #Multiplicação da matriz inversa de A multiplicada pela Trasposta de T, esse resultado é multiplicado pela transposta de A e pela matriz B, já devolvendo os coeficientes encontrados."
      ],
      "metadata": {
        "id": "bftdu2KYZG0B"
      },
      "execution_count": null,
      "outputs": []
    },
    {
      "cell_type": "code",
      "source": [
        "#Seguindo para Normal com Cholesky\n",
        "\n",
        "def cho(A, b):#Passando as duas matrizes\n",
        "    L = scipy.linalg.cholesky(A.T @ A) #Multiplicando por A por sua transposta para garantir uma matriz simetrica e quadrada, antes de passa-la pela fatoração de Cholesky, como já mencionado\n",
        "    L1 = scipy.linalg.solve_triangular(L, A.T @ b, trans='T') # Resolvendo a equação triangular, usando como resposta a multiplicação da trasposta de A com a matriz b, passando a especificação de resolução para transposta, preparando L1 para ser a transposta conjugada de L\n",
        "    return scipy.linalg.solve_triangular(L, L1) #Achando a resposta final resolvendo as equações juntas para achar os coeficientes."
      ],
      "metadata": {
        "id": "UmrKsl88ZLqg"
      },
      "execution_count": null,
      "outputs": []
    },
    {
      "cell_type": "code",
      "source": [
        "#Seguindo para QR Factorization\n",
        "\n",
        "def QF(A,b):#Passando as duas matrizes\n",
        "    Q, R = scipy.linalg.qr(A, mode='economic') #Calculando Q e R a partir de A, colocando fatoração parcial para garantir matriz quadrada\n",
        "    return scipy.linalg.solve_triangular(R, Q.T @ b) #Resolvendo para achar a resposta final pela matriz triangular"
      ],
      "metadata": {
        "id": "1qxAA1JVZSM_"
      },
      "execution_count": null,
      "outputs": []
    },
    {
      "cell_type": "code",
      "source": [
        "#Por fim, temos o metodo SVD.\n",
        "\n",
        "def svd(A,b):\n",
        "    m, n = A.shape #Adquirindo numero de linhas e numero de colunas de A\n",
        "    U, sigma, Vh = scipy.linalg.svd(A, full_matrices=False, lapack_driver='gesdd') # Achando os valores das matrizes já mencionadas, mas tratando de destacar de utilizar uma estrategia de divisão e conquista eficientes. E utilizando fatoração parcial por conta do tamanho da matriz\n",
        "    w = (U.T @ b)/ sigma #Multiplicando aos vetores singulares a esquerda de A (U) pela matriz b e dividindo o resultado pelos valores singulares da matriz A(sigma)\n",
        "    return Vh.T @ w # Multiplicando o resultado a cima pela transposta a dos vetores singulares a direita de A(V). Para por fim achar os coeficientes."
      ],
      "metadata": {
        "id": "8FPYiJ2edoOA"
      },
      "execution_count": null,
      "outputs": []
    },
    {
      "cell_type": "markdown",
      "metadata": {
        "id": "gpKc5xZq2o6g"
      },
      "source": [
        "<div class=\"alert alert-block alert-info\">\n",
        "5. CASOS DE USO\n",
        "</div>"
      ]
    },
    {
      "cell_type": "code",
      "source": [
        "from sklearn import datasets, linear_model, metrics\n",
        "from sklearn.model_selection import train_test_split\n",
        "from sklearn.preprocessing import PolynomialFeatures\n",
        "import timeit\n",
        "import pandas as pd"
      ],
      "metadata": {
        "id": "UOnQOL7RhTIV"
      },
      "execution_count": null,
      "outputs": []
    },
    {
      "cell_type": "markdown",
      "source": [
        "Preparando o mesmo exemplo das referencias( dataset sobre pacientes com Diabetes)"
      ],
      "metadata": {
        "id": "vRPbCQlBho80"
      }
    },
    {
      "cell_type": "code",
      "source": [
        "data = datasets.load_diabetes() #Passando para uma variavel"
      ],
      "metadata": {
        "id": "lOJMhw0Chi4L"
      },
      "execution_count": null,
      "outputs": []
    },
    {
      "cell_type": "code",
      "source": [
        "feature_names=['age', 'sex', 'bmi', 'bp', 's1', 's2', 's3', 's4', 's5', 's6']# Arrumando os labels"
      ],
      "metadata": {
        "id": "rSM5bJ50iYvk"
      },
      "execution_count": null,
      "outputs": []
    },
    {
      "cell_type": "code",
      "source": [
        "x_trn,x_test,y_trn,y_test = train_test_split(data.data, data.target, test_size=0.2) #Separando a matriz"
      ],
      "metadata": {
        "id": "vHEh5mMpigk2"
      },
      "execution_count": null,
      "outputs": []
    },
    {
      "cell_type": "code",
      "source": [
        "x_trn.shape, x_test.shape"
      ],
      "metadata": {
        "colab": {
          "base_uri": "https://localhost:8080/"
        },
        "id": "nm4qgl66igrK",
        "outputId": "6b4da766-0f70-4245-95a4-b8d12d35093d"
      },
      "execution_count": null,
      "outputs": [
        {
          "output_type": "execute_result",
          "data": {
            "text/plain": [
              "((353, 10), (89, 10))"
            ]
          },
          "metadata": {},
          "execution_count": 105
        }
      ]
    },
    {
      "cell_type": "markdown",
      "source": [
        "Calculo da Norma quadrática média  e o erro absoluto médio, para testar precisão dos códigos"
      ],
      "metadata": {
        "id": "D-KDsIbpudJV"
      }
    },
    {
      "cell_type": "code",
      "source": [
        "def regr_metrics(act, pred):\n",
        "    return (math.sqrt(metrics.mean_squared_error(act, pred)),\n",
        "     metrics.mean_absolute_error(act, pred))"
      ],
      "metadata": {
        "id": "y6zuqYcBtwyu"
      },
      "execution_count": null,
      "outputs": []
    },
    {
      "cell_type": "markdown",
      "source": [
        "Lembrando que possivelmente há uma constante na equação que estamos buscando, é necessario fazer um pequeno tratamento nas matrizes \"x\", de forma que seja possivel inclui-la nos calculos"
      ],
      "metadata": {
        "id": "6EDB5Ovlpuz3"
      }
    },
    {
      "cell_type": "code",
      "source": [
        "trnX = np.c_[x_trn, np.ones(x_trn.shape[0])]\n",
        "testX = np.c_[x_test, np.ones(x_test.shape[0])]"
      ],
      "metadata": {
        "id": "0i18Ia7aqQoH"
      },
      "execution_count": null,
      "outputs": []
    },
    {
      "cell_type": "markdown",
      "source": [
        "Testando os métodos Scipy Sparse Least Squares"
      ],
      "metadata": {
        "id": "gKxQOG_NrBUA"
      }
    },
    {
      "cell_type": "code",
      "source": [
        "SD = SSLS(trnX,y_trn,tipo = \"sd\")\n",
        "\n",
        "print(\" SVD e  divisão e conquista\", regr_metrics(y_test, testX @ SD[0]))\n",
        "\n",
        "SY = SSLS(trnX,y_trn,tipo = \"sy\")\n",
        "\n",
        "print(\" QR\", regr_metrics(y_test, testX @ SY[0]))\n",
        "\n",
        "SS = SSLS(trnX,y_trn,tipo = \"ss\")\n",
        "\n",
        "print(\" SVD \", regr_metrics(y_test, testX @ SS[0]))"
      ],
      "metadata": {
        "colab": {
          "base_uri": "https://localhost:8080/"
        },
        "id": "TtBM0938rI__",
        "outputId": "886c2e2e-9337-489a-b143-20b9af6217c9"
      },
      "execution_count": null,
      "outputs": [
        {
          "output_type": "stream",
          "name": "stdout",
          "text": [
            "SDR^2: 0.4595741601060638\n",
            " SVD e  divisão e conquista (53.84091444930269, 42.06503959301822)\n",
            "SYR^2: 0.45957416010606245\n",
            " QR (53.84091444930275, 42.06503959301826)\n",
            "SSR^2: 0.45957416010606444\n",
            " SVD  (53.84091444930266, 42.06503959301819)\n"
          ]
        }
      ]
    },
    {
      "cell_type": "markdown",
      "source": [
        "Testando Naive Solution\n",
        "\n"
      ],
      "metadata": {
        "id": "UkMKcF6oyy4W"
      }
    },
    {
      "cell_type": "code",
      "source": [
        "Nai = Naiv(trnX,y_trn)\n",
        "\n",
        "print(\"Naive\", regr_metrics(y_test, testX @ Nai))\n",
        "\n"
      ],
      "metadata": {
        "colab": {
          "base_uri": "https://localhost:8080/"
        },
        "id": "e49i6qBezBSz",
        "outputId": "6db2d68b-3b73-4ff3-c8ef-2fa2024349a2"
      },
      "execution_count": null,
      "outputs": [
        {
          "output_type": "stream",
          "name": "stdout",
          "text": [
            "NaiveR^2: 0.4595741601060652\n",
            "Naive (53.84091444930262, 42.06503959301814)\n"
          ]
        }
      ]
    },
    {
      "cell_type": "markdown",
      "source": [
        "Testando Normal com Cholesky"
      ],
      "metadata": {
        "id": "SaO1mUN41mls"
      }
    },
    {
      "cell_type": "code",
      "source": [
        "Cho = cho(trnX,y_trn)\n",
        "\n",
        "print(\"Cholesky\", regr_metrics(y_test, testX @ Cho))"
      ],
      "metadata": {
        "colab": {
          "base_uri": "https://localhost:8080/"
        },
        "id": "_s_vjkuFeT0V",
        "outputId": "a9eb05ee-20c0-4b5a-8c29-2279be99abe6"
      },
      "execution_count": null,
      "outputs": [
        {
          "output_type": "stream",
          "name": "stdout",
          "text": [
            "CholeR^2: 0.4595741601060618\n",
            "Cholesky (53.84091444930279, 42.0650395930183)\n"
          ]
        }
      ]
    },
    {
      "cell_type": "markdown",
      "source": [
        "Testando QR Factorization"
      ],
      "metadata": {
        "id": "sBFvtBn-f3y9"
      }
    },
    {
      "cell_type": "code",
      "source": [
        "Qf =  QF(trnX,y_trn)\n",
        "\n",
        "print(\"Qf\", regr_metrics(y_test, testX @ Qf))"
      ],
      "metadata": {
        "colab": {
          "base_uri": "https://localhost:8080/"
        },
        "id": "WgLE9zRzgDRM",
        "outputId": "1df7d255-83da-4724-d304-f747a77297a3"
      },
      "execution_count": null,
      "outputs": [
        {
          "output_type": "stream",
          "name": "stdout",
          "text": [
            "QfR^2: 0.4595741601060619\n",
            "Qf (53.84091444930279, 42.06503959301829)\n"
          ]
        }
      ]
    },
    {
      "cell_type": "markdown",
      "source": [
        "Testando método SVD"
      ],
      "metadata": {
        "id": "1bmgOr10hf60"
      }
    },
    {
      "cell_type": "code",
      "source": [
        "Svd =  svd(trnX,y_trn)\n",
        "\n",
        "print(\"SVD\", regr_metrics(y_test, testX @ Svd))"
      ],
      "metadata": {
        "colab": {
          "base_uri": "https://localhost:8080/"
        },
        "id": "00UCYcj4hsGf",
        "outputId": "42a07d6a-384f-4871-e696-84da730b7103"
      },
      "execution_count": null,
      "outputs": [
        {
          "output_type": "stream",
          "name": "stdout",
          "text": [
            "SVDR^2: 0.45957416010606456\n",
            "SVD (53.84091444930265, 42.0650395930182)\n"
          ]
        }
      ]
    },
    {
      "cell_type": "markdown",
      "source": [
        "Comparação das funções por tempo e erro:"
      ],
      "metadata": {
        "id": "BHj2zhRXjwtb"
      }
    },
    {
      "cell_type": "code",
      "source": [
        "def scipylstq(A, b):\n",
        "    return scipy.linalg.lstsq(A,b)[0]\n",
        ""
      ],
      "metadata": {
        "id": "L7XZgIHZnblx"
      },
      "execution_count": null,
      "outputs": []
    },
    {
      "cell_type": "code",
      "source": [
        "\n",
        "\n",
        "row_names = ['Normal Eqns- Naive',\n",
        "             'Normal Eqns- Cholesky',\n",
        "             'QR Factorization',\n",
        "             'SVD',\n",
        "             'Scipy lstsq']\n",
        "\n",
        "name2func = {'Normal Eqns- Naive': 'Naiv',\n",
        "             'Normal Eqns- Cholesky': 'cho',\n",
        "             'QR Factorization': 'QF',\n",
        "             'SVD': 'svd',\n",
        "             'Scipy lstsq': 'scipylstq'}\n",
        "\n",
        "pd.options.display.float_format = '{:,.9f}'.format\n",
        "df = pd.DataFrame(index=row_names, columns=['Time', 'Error'])\n",
        "for name in row_names:\n",
        "    fcn = name2func[name]\n",
        "    t = timeit.timeit(fcn + '(testX,y_test)', number=5, globals=globals())\n",
        "    coeffs = locals()[fcn](testX, y_test)\n",
        "    df.at[name, 'Time'] =  t\n",
        "    df.at[name, 'Error'] = regr_metrics(y_test, testX @ coeffs)[0]\n",
        "df"
      ],
      "metadata": {
        "colab": {
          "base_uri": "https://localhost:8080/",
          "height": 206
        },
        "id": "sdi0MvE0jrxw",
        "outputId": "baeab4cd-9a5a-49f2-ce23-693c4217ea0f"
      },
      "execution_count": null,
      "outputs": [
        {
          "output_type": "execute_result",
          "data": {
            "text/plain": [
              "                             Time        Error\n",
              "Normal Eqns- Naive    0.004937370 49.165197129\n",
              "Normal Eqns- Cholesky 0.000497120 49.165197129\n",
              "QR Factorization      0.000582340 49.165197129\n",
              "SVD                   0.000668860 49.165197129\n",
              "Scipy lstsq           0.005978450 49.165197129"
            ],
            "text/html": [
              "\n",
              "  <div id=\"df-f7b4d2d9-adf3-4746-a9ff-237f1af8dbed\">\n",
              "    <div class=\"colab-df-container\">\n",
              "      <div>\n",
              "<style scoped>\n",
              "    .dataframe tbody tr th:only-of-type {\n",
              "        vertical-align: middle;\n",
              "    }\n",
              "\n",
              "    .dataframe tbody tr th {\n",
              "        vertical-align: top;\n",
              "    }\n",
              "\n",
              "    .dataframe thead th {\n",
              "        text-align: right;\n",
              "    }\n",
              "</style>\n",
              "<table border=\"1\" class=\"dataframe\">\n",
              "  <thead>\n",
              "    <tr style=\"text-align: right;\">\n",
              "      <th></th>\n",
              "      <th>Time</th>\n",
              "      <th>Error</th>\n",
              "    </tr>\n",
              "  </thead>\n",
              "  <tbody>\n",
              "    <tr>\n",
              "      <th>Normal Eqns- Naive</th>\n",
              "      <td>0.004937370</td>\n",
              "      <td>49.165197129</td>\n",
              "    </tr>\n",
              "    <tr>\n",
              "      <th>Normal Eqns- Cholesky</th>\n",
              "      <td>0.000497120</td>\n",
              "      <td>49.165197129</td>\n",
              "    </tr>\n",
              "    <tr>\n",
              "      <th>QR Factorization</th>\n",
              "      <td>0.000582340</td>\n",
              "      <td>49.165197129</td>\n",
              "    </tr>\n",
              "    <tr>\n",
              "      <th>SVD</th>\n",
              "      <td>0.000668860</td>\n",
              "      <td>49.165197129</td>\n",
              "    </tr>\n",
              "    <tr>\n",
              "      <th>Scipy lstsq</th>\n",
              "      <td>0.005978450</td>\n",
              "      <td>49.165197129</td>\n",
              "    </tr>\n",
              "  </tbody>\n",
              "</table>\n",
              "</div>\n",
              "      <button class=\"colab-df-convert\" onclick=\"convertToInteractive('df-f7b4d2d9-adf3-4746-a9ff-237f1af8dbed')\"\n",
              "              title=\"Convert this dataframe to an interactive table.\"\n",
              "              style=\"display:none;\">\n",
              "        \n",
              "  <svg xmlns=\"http://www.w3.org/2000/svg\" height=\"24px\"viewBox=\"0 0 24 24\"\n",
              "       width=\"24px\">\n",
              "    <path d=\"M0 0h24v24H0V0z\" fill=\"none\"/>\n",
              "    <path d=\"M18.56 5.44l.94 2.06.94-2.06 2.06-.94-2.06-.94-.94-2.06-.94 2.06-2.06.94zm-11 1L8.5 8.5l.94-2.06 2.06-.94-2.06-.94L8.5 2.5l-.94 2.06-2.06.94zm10 10l.94 2.06.94-2.06 2.06-.94-2.06-.94-.94-2.06-.94 2.06-2.06.94z\"/><path d=\"M17.41 7.96l-1.37-1.37c-.4-.4-.92-.59-1.43-.59-.52 0-1.04.2-1.43.59L10.3 9.45l-7.72 7.72c-.78.78-.78 2.05 0 2.83L4 21.41c.39.39.9.59 1.41.59.51 0 1.02-.2 1.41-.59l7.78-7.78 2.81-2.81c.8-.78.8-2.07 0-2.86zM5.41 20L4 18.59l7.72-7.72 1.47 1.35L5.41 20z\"/>\n",
              "  </svg>\n",
              "      </button>\n",
              "      \n",
              "  <style>\n",
              "    .colab-df-container {\n",
              "      display:flex;\n",
              "      flex-wrap:wrap;\n",
              "      gap: 12px;\n",
              "    }\n",
              "\n",
              "    .colab-df-convert {\n",
              "      background-color: #E8F0FE;\n",
              "      border: none;\n",
              "      border-radius: 50%;\n",
              "      cursor: pointer;\n",
              "      display: none;\n",
              "      fill: #1967D2;\n",
              "      height: 32px;\n",
              "      padding: 0 0 0 0;\n",
              "      width: 32px;\n",
              "    }\n",
              "\n",
              "    .colab-df-convert:hover {\n",
              "      background-color: #E2EBFA;\n",
              "      box-shadow: 0px 1px 2px rgba(60, 64, 67, 0.3), 0px 1px 3px 1px rgba(60, 64, 67, 0.15);\n",
              "      fill: #174EA6;\n",
              "    }\n",
              "\n",
              "    [theme=dark] .colab-df-convert {\n",
              "      background-color: #3B4455;\n",
              "      fill: #D2E3FC;\n",
              "    }\n",
              "\n",
              "    [theme=dark] .colab-df-convert:hover {\n",
              "      background-color: #434B5C;\n",
              "      box-shadow: 0px 1px 3px 1px rgba(0, 0, 0, 0.15);\n",
              "      filter: drop-shadow(0px 1px 2px rgba(0, 0, 0, 0.3));\n",
              "      fill: #FFFFFF;\n",
              "    }\n",
              "  </style>\n",
              "\n",
              "      <script>\n",
              "        const buttonEl =\n",
              "          document.querySelector('#df-f7b4d2d9-adf3-4746-a9ff-237f1af8dbed button.colab-df-convert');\n",
              "        buttonEl.style.display =\n",
              "          google.colab.kernel.accessAllowed ? 'block' : 'none';\n",
              "\n",
              "        async function convertToInteractive(key) {\n",
              "          const element = document.querySelector('#df-f7b4d2d9-adf3-4746-a9ff-237f1af8dbed');\n",
              "          const dataTable =\n",
              "            await google.colab.kernel.invokeFunction('convertToInteractive',\n",
              "                                                     [key], {});\n",
              "          if (!dataTable) return;\n",
              "\n",
              "          const docLinkHtml = 'Like what you see? Visit the ' +\n",
              "            '<a target=\"_blank\" href=https://colab.research.google.com/notebooks/data_table.ipynb>data table notebook</a>'\n",
              "            + ' to learn more about interactive tables.';\n",
              "          element.innerHTML = '';\n",
              "          dataTable['output_type'] = 'display_data';\n",
              "          await google.colab.output.renderOutput(dataTable, element);\n",
              "          const docLink = document.createElement('div');\n",
              "          docLink.innerHTML = docLinkHtml;\n",
              "          element.appendChild(docLink);\n",
              "        }\n",
              "      </script>\n",
              "    </div>\n",
              "  </div>\n",
              "  "
            ]
          },
          "metadata": {},
          "execution_count": 115
        }
      ]
    },
    {
      "cell_type": "markdown",
      "source": [
        "Por tanto, para essa predição, Cholesky foi o método com melhor desempenho"
      ],
      "metadata": {
        "id": "eiB2ZzIrn-7f"
      }
    },
    {
      "cell_type": "markdown",
      "metadata": {
        "id": "8N8lPz_A2o6g"
      },
      "source": [
        " **Agora, para o segundo exemplo**"
      ]
    },
    {
      "cell_type": "code",
      "source": [
        "data2 = datasets.load_linnerud()"
      ],
      "metadata": {
        "id": "rDZfHdNJ21H3"
      },
      "execution_count": null,
      "outputs": []
    },
    {
      "cell_type": "code",
      "source": [
        "feature_names=['Weight', 'Waist', 'Pulse']# Arrumando os labels"
      ],
      "metadata": {
        "id": "NU2B256F3XOt"
      },
      "execution_count": null,
      "outputs": []
    },
    {
      "cell_type": "code",
      "source": [
        "x_trn,x_test,y_trn,y_test = train_test_split(data2.data, data2.target, test_size=0.2) #Separando a matriz"
      ],
      "metadata": {
        "id": "1Dz15hzQ4p8v"
      },
      "execution_count": null,
      "outputs": []
    },
    {
      "cell_type": "code",
      "source": [
        "x_trn.shape, x_test.shape"
      ],
      "metadata": {
        "colab": {
          "base_uri": "https://localhost:8080/"
        },
        "id": "h0OiPtTs4u0c",
        "outputId": "b7ed7349-112f-4e2f-94c6-bc3efe849ed9"
      },
      "execution_count": null,
      "outputs": [
        {
          "output_type": "execute_result",
          "data": {
            "text/plain": [
              "((16, 3), (4, 3))"
            ]
          },
          "metadata": {},
          "execution_count": 119
        }
      ]
    },
    {
      "cell_type": "markdown",
      "source": [
        "Vamos utilizar da mesma função já definida \"regr_metrics\" para testar a precisão do código e fazer o mesmo tratamento para as matrizes de forma a possibilitar a constante."
      ],
      "metadata": {
        "id": "31fUsqqVI3Zp"
      }
    },
    {
      "cell_type": "code",
      "source": [
        "trnX = np.c_[x_trn, np.ones(x_trn.shape[0])]\n",
        "testX = np.c_[x_test, np.ones(x_test.shape[0])]"
      ],
      "metadata": {
        "id": "tDFi5ZqZKCfq"
      },
      "execution_count": null,
      "outputs": []
    },
    {
      "cell_type": "markdown",
      "source": [
        "Testando os métodos Scipy Sparse Least Squares"
      ],
      "metadata": {
        "id": "hojaw4rcKWPz"
      }
    },
    {
      "cell_type": "code",
      "source": [
        "SD = SSLS(trnX,y_trn,tipo = \"sd\")\n",
        "\n",
        "\n",
        "print(\" SVD e  divisão e conquista\", regr_metrics(y_test, testX @ SD[0]))\n",
        "\n",
        "SY = SSLS(trnX,y_trn,tipo = \"sy\")\n",
        "\n",
        "print(\" QR\", regr_metrics(y_test, testX @ SY[0]))\n",
        "\n",
        "SS = SSLS(trnX,y_trn,tipo = \"ss\")\n",
        "\n",
        "print(\" SVD \", regr_metrics(y_test, testX @ SS[0]))"
      ],
      "metadata": {
        "colab": {
          "base_uri": "https://localhost:8080/"
        },
        "id": "OnusOF63KU2J",
        "outputId": "bce654f4-5eb1-4e13-c35c-51c8a0b313a2"
      },
      "execution_count": null,
      "outputs": [
        {
          "output_type": "stream",
          "name": "stdout",
          "text": [
            " SVD e  divisão e conquista (24.34496024268713, 15.477736134746257)\n",
            " QR (24.34496024268714, 15.47773613474625)\n",
            " SVD  (24.344960242687183, 15.477736134746289)\n"
          ]
        }
      ]
    },
    {
      "cell_type": "markdown",
      "source": [
        "Testando Naive solution"
      ],
      "metadata": {
        "id": "i6sL_1c8VrL-"
      }
    },
    {
      "cell_type": "code",
      "source": [
        "Nai = Naiv(trnX,y_trn)\n",
        "\n",
        "print(\"Naive\", regr_metrics(y_test, testX @ Nai))"
      ],
      "metadata": {
        "colab": {
          "base_uri": "https://localhost:8080/"
        },
        "id": "lnQExZOrVxDq",
        "outputId": "8ec0ae99-b77d-46b6-9645-5e15a23ff56f"
      },
      "execution_count": null,
      "outputs": [
        {
          "output_type": "stream",
          "name": "stdout",
          "text": [
            "Naive (24.344960242686916, 15.477736134746094)\n"
          ]
        }
      ]
    },
    {
      "cell_type": "markdown",
      "source": [
        "Testando Normal com Cholesky"
      ],
      "metadata": {
        "id": "PbZDLFpbV7RT"
      }
    },
    {
      "cell_type": "code",
      "source": [
        "Cho = cho(trnX,y_trn)\n",
        "\n",
        "print(\"Cholesky\", regr_metrics(y_test, testX @ Cho))"
      ],
      "metadata": {
        "colab": {
          "base_uri": "https://localhost:8080/"
        },
        "id": "mIS2z-EzV_hl",
        "outputId": "f5cbeafb-7270-427f-94b1-62c2741c582c"
      },
      "execution_count": null,
      "outputs": [
        {
          "output_type": "stream",
          "name": "stdout",
          "text": [
            "Cholesky (24.34496024268719, 15.477736134746282)\n"
          ]
        }
      ]
    },
    {
      "cell_type": "markdown",
      "source": [
        "Testando QR Factorization"
      ],
      "metadata": {
        "id": "7k0ijNbRWCqz"
      }
    },
    {
      "cell_type": "code",
      "source": [
        "Qf =  QF(trnX,y_trn)\n",
        "\n",
        "print(\"Qf\", regr_metrics(y_test, testX @ Qf))"
      ],
      "metadata": {
        "colab": {
          "base_uri": "https://localhost:8080/"
        },
        "id": "-zP_nxAWWGZL",
        "outputId": "752e48c4-811c-4f79-8175-2f4113ccea9b"
      },
      "execution_count": null,
      "outputs": [
        {
          "output_type": "stream",
          "name": "stdout",
          "text": [
            "Qf (24.344960242687105, 15.477736134746218)\n"
          ]
        }
      ]
    },
    {
      "cell_type": "markdown",
      "source": [
        "(Como o teste de SVD já foi realizado pelo Scipy, partiremos para a comparação das funções por tempo e erro:"
      ],
      "metadata": {
        "id": "Gje-JRQGWShr"
      }
    },
    {
      "cell_type": "code",
      "source": [
        "row_names = ['Normal Eqns- Naive',\n",
        "             'Normal Eqns- Cholesky',\n",
        "             'QR Factorization',\n",
        "             'Scipy lstsq']\n",
        "\n",
        "name2func = {'Normal Eqns- Naive': 'Naiv',\n",
        "             'Normal Eqns- Cholesky': 'cho',\n",
        "             'QR Factorization': 'QF',\n",
        "             'Scipy lstsq': 'scipylstq'}\n",
        "\n",
        "pd.options.display.float_format = '{:,.9f}'.format\n",
        "df = pd.DataFrame(index=row_names, columns=['Time', 'Error'])\n",
        "for name in row_names:\n",
        "    fcn = name2func[name]\n",
        "    t = timeit.timeit(fcn + '(testX,y_test)', number=5, globals=globals())\n",
        "    coeffs = locals()[fcn](testX, y_test)\n",
        "    df.at[name, 'Time'] =  t\n",
        "    df.at[name, 'Error'] = regr_metrics(y_test, testX @ coeffs)[0]\n",
        "df"
      ],
      "metadata": {
        "colab": {
          "base_uri": "https://localhost:8080/",
          "height": 175
        },
        "id": "NYsOtFHYWXp0",
        "outputId": "5b3603ad-28ed-49c6-e574-9e7e7eb31f5c"
      },
      "execution_count": null,
      "outputs": [
        {
          "output_type": "execute_result",
          "data": {
            "text/plain": [
              "                             Time       Error\n",
              "Normal Eqns- Naive    0.006800090 0.000000000\n",
              "Normal Eqns- Cholesky 0.005043720 0.000000000\n",
              "QR Factorization      0.001851520 0.000000000\n",
              "Scipy lstsq           0.000323880 0.000000000"
            ],
            "text/html": [
              "\n",
              "  <div id=\"df-b8c7aad7-b456-43e7-85e6-ae54da17403b\">\n",
              "    <div class=\"colab-df-container\">\n",
              "      <div>\n",
              "<style scoped>\n",
              "    .dataframe tbody tr th:only-of-type {\n",
              "        vertical-align: middle;\n",
              "    }\n",
              "\n",
              "    .dataframe tbody tr th {\n",
              "        vertical-align: top;\n",
              "    }\n",
              "\n",
              "    .dataframe thead th {\n",
              "        text-align: right;\n",
              "    }\n",
              "</style>\n",
              "<table border=\"1\" class=\"dataframe\">\n",
              "  <thead>\n",
              "    <tr style=\"text-align: right;\">\n",
              "      <th></th>\n",
              "      <th>Time</th>\n",
              "      <th>Error</th>\n",
              "    </tr>\n",
              "  </thead>\n",
              "  <tbody>\n",
              "    <tr>\n",
              "      <th>Normal Eqns- Naive</th>\n",
              "      <td>0.006800090</td>\n",
              "      <td>0.000000000</td>\n",
              "    </tr>\n",
              "    <tr>\n",
              "      <th>Normal Eqns- Cholesky</th>\n",
              "      <td>0.005043720</td>\n",
              "      <td>0.000000000</td>\n",
              "    </tr>\n",
              "    <tr>\n",
              "      <th>QR Factorization</th>\n",
              "      <td>0.001851520</td>\n",
              "      <td>0.000000000</td>\n",
              "    </tr>\n",
              "    <tr>\n",
              "      <th>Scipy lstsq</th>\n",
              "      <td>0.000323880</td>\n",
              "      <td>0.000000000</td>\n",
              "    </tr>\n",
              "  </tbody>\n",
              "</table>\n",
              "</div>\n",
              "      <button class=\"colab-df-convert\" onclick=\"convertToInteractive('df-b8c7aad7-b456-43e7-85e6-ae54da17403b')\"\n",
              "              title=\"Convert this dataframe to an interactive table.\"\n",
              "              style=\"display:none;\">\n",
              "        \n",
              "  <svg xmlns=\"http://www.w3.org/2000/svg\" height=\"24px\"viewBox=\"0 0 24 24\"\n",
              "       width=\"24px\">\n",
              "    <path d=\"M0 0h24v24H0V0z\" fill=\"none\"/>\n",
              "    <path d=\"M18.56 5.44l.94 2.06.94-2.06 2.06-.94-2.06-.94-.94-2.06-.94 2.06-2.06.94zm-11 1L8.5 8.5l.94-2.06 2.06-.94-2.06-.94L8.5 2.5l-.94 2.06-2.06.94zm10 10l.94 2.06.94-2.06 2.06-.94-2.06-.94-.94-2.06-.94 2.06-2.06.94z\"/><path d=\"M17.41 7.96l-1.37-1.37c-.4-.4-.92-.59-1.43-.59-.52 0-1.04.2-1.43.59L10.3 9.45l-7.72 7.72c-.78.78-.78 2.05 0 2.83L4 21.41c.39.39.9.59 1.41.59.51 0 1.02-.2 1.41-.59l7.78-7.78 2.81-2.81c.8-.78.8-2.07 0-2.86zM5.41 20L4 18.59l7.72-7.72 1.47 1.35L5.41 20z\"/>\n",
              "  </svg>\n",
              "      </button>\n",
              "      \n",
              "  <style>\n",
              "    .colab-df-container {\n",
              "      display:flex;\n",
              "      flex-wrap:wrap;\n",
              "      gap: 12px;\n",
              "    }\n",
              "\n",
              "    .colab-df-convert {\n",
              "      background-color: #E8F0FE;\n",
              "      border: none;\n",
              "      border-radius: 50%;\n",
              "      cursor: pointer;\n",
              "      display: none;\n",
              "      fill: #1967D2;\n",
              "      height: 32px;\n",
              "      padding: 0 0 0 0;\n",
              "      width: 32px;\n",
              "    }\n",
              "\n",
              "    .colab-df-convert:hover {\n",
              "      background-color: #E2EBFA;\n",
              "      box-shadow: 0px 1px 2px rgba(60, 64, 67, 0.3), 0px 1px 3px 1px rgba(60, 64, 67, 0.15);\n",
              "      fill: #174EA6;\n",
              "    }\n",
              "\n",
              "    [theme=dark] .colab-df-convert {\n",
              "      background-color: #3B4455;\n",
              "      fill: #D2E3FC;\n",
              "    }\n",
              "\n",
              "    [theme=dark] .colab-df-convert:hover {\n",
              "      background-color: #434B5C;\n",
              "      box-shadow: 0px 1px 3px 1px rgba(0, 0, 0, 0.15);\n",
              "      filter: drop-shadow(0px 1px 2px rgba(0, 0, 0, 0.3));\n",
              "      fill: #FFFFFF;\n",
              "    }\n",
              "  </style>\n",
              "\n",
              "      <script>\n",
              "        const buttonEl =\n",
              "          document.querySelector('#df-b8c7aad7-b456-43e7-85e6-ae54da17403b button.colab-df-convert');\n",
              "        buttonEl.style.display =\n",
              "          google.colab.kernel.accessAllowed ? 'block' : 'none';\n",
              "\n",
              "        async function convertToInteractive(key) {\n",
              "          const element = document.querySelector('#df-b8c7aad7-b456-43e7-85e6-ae54da17403b');\n",
              "          const dataTable =\n",
              "            await google.colab.kernel.invokeFunction('convertToInteractive',\n",
              "                                                     [key], {});\n",
              "          if (!dataTable) return;\n",
              "\n",
              "          const docLinkHtml = 'Like what you see? Visit the ' +\n",
              "            '<a target=\"_blank\" href=https://colab.research.google.com/notebooks/data_table.ipynb>data table notebook</a>'\n",
              "            + ' to learn more about interactive tables.';\n",
              "          element.innerHTML = '';\n",
              "          dataTable['output_type'] = 'display_data';\n",
              "          await google.colab.output.renderOutput(dataTable, element);\n",
              "          const docLink = document.createElement('div');\n",
              "          docLink.innerHTML = docLinkHtml;\n",
              "          element.appendChild(docLink);\n",
              "        }\n",
              "      </script>\n",
              "    </div>\n",
              "  </div>\n",
              "  "
            ]
          },
          "metadata": {},
          "execution_count": 146
        }
      ]
    },
    {
      "cell_type": "markdown",
      "source": [
        "Como é possivel ver,  para essa predição, Scipy(SVD) foi o método com melhor desempenho"
      ],
      "metadata": {
        "id": "EObXCthAg2wO"
      }
    }
  ],
  "metadata": {
    "kernelspec": {
      "display_name": "Python 3",
      "language": "python",
      "name": "python3"
    },
    "language_info": {
      "codemirror_mode": {
        "name": "ipython",
        "version": 3
      },
      "file_extension": ".py",
      "mimetype": "text/x-python",
      "name": "python",
      "nbconvert_exporter": "python",
      "pygments_lexer": "ipython3",
      "version": "3.8.5"
    },
    "colab": {
      "provenance": [],
      "include_colab_link": true
    }
  },
  "nbformat": 4,
  "nbformat_minor": 0
}